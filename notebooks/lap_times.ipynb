{
 "cells": [
  {
   "cell_type": "code",
   "execution_count": 45,
   "id": "initial_id",
   "metadata": {
    "collapsed": true,
    "ExecuteTime": {
     "end_time": "2024-01-18T23:32:02.203979635Z",
     "start_time": "2024-01-18T23:32:02.122308457Z"
    }
   },
   "outputs": [],
   "source": [
    "from common.utils.utils import load_dataset\n",
    "import pandas as pd\n",
    "import plotly.express as px"
   ]
  },
  {
   "cell_type": "code",
   "outputs": [
    {
     "data": {
      "text/plain": "   raceId  driverId  lap  position      time  milliseconds\n0     841        20    1         1  1:38.109         98109\n1     841        20    2         1  1:33.006         93006\n2     841        20    3         1  1:32.713         92713\n3     841        20    4         1  1:32.803         92803\n4     841        20    5         1  1:32.342         92342",
      "text/html": "<div>\n<style scoped>\n    .dataframe tbody tr th:only-of-type {\n        vertical-align: middle;\n    }\n\n    .dataframe tbody tr th {\n        vertical-align: top;\n    }\n\n    .dataframe thead th {\n        text-align: right;\n    }\n</style>\n<table border=\"1\" class=\"dataframe\">\n  <thead>\n    <tr style=\"text-align: right;\">\n      <th></th>\n      <th>raceId</th>\n      <th>driverId</th>\n      <th>lap</th>\n      <th>position</th>\n      <th>time</th>\n      <th>milliseconds</th>\n    </tr>\n  </thead>\n  <tbody>\n    <tr>\n      <th>0</th>\n      <td>841</td>\n      <td>20</td>\n      <td>1</td>\n      <td>1</td>\n      <td>1:38.109</td>\n      <td>98109</td>\n    </tr>\n    <tr>\n      <th>1</th>\n      <td>841</td>\n      <td>20</td>\n      <td>2</td>\n      <td>1</td>\n      <td>1:33.006</td>\n      <td>93006</td>\n    </tr>\n    <tr>\n      <th>2</th>\n      <td>841</td>\n      <td>20</td>\n      <td>3</td>\n      <td>1</td>\n      <td>1:32.713</td>\n      <td>92713</td>\n    </tr>\n    <tr>\n      <th>3</th>\n      <td>841</td>\n      <td>20</td>\n      <td>4</td>\n      <td>1</td>\n      <td>1:32.803</td>\n      <td>92803</td>\n    </tr>\n    <tr>\n      <th>4</th>\n      <td>841</td>\n      <td>20</td>\n      <td>5</td>\n      <td>1</td>\n      <td>1:32.342</td>\n      <td>92342</td>\n    </tr>\n  </tbody>\n</table>\n</div>"
     },
     "execution_count": 2,
     "metadata": {},
     "output_type": "execute_result"
    }
   ],
   "source": [
    "lap_times_df = load_dataset('lap_times')\n",
    "lap_times_df.head()"
   ],
   "metadata": {
    "collapsed": false,
    "ExecuteTime": {
     "end_time": "2024-01-18T23:05:29.302159248Z",
     "start_time": "2024-01-18T23:05:28.638694848Z"
    }
   },
   "id": "4fdc33550eb933d9",
   "execution_count": 2
  },
  {
   "cell_type": "code",
   "outputs": [
    {
     "data": {
      "text/plain": "   raceId  year  round  circuitId                   name        date  \\\n0       1  2009      1          1  Australian Grand Prix  2009-03-29   \n1       2  2009      2          2   Malaysian Grand Prix  2009-04-05   \n2       3  2009      3         17     Chinese Grand Prix  2009-04-19   \n3       4  2009      4          3     Bahrain Grand Prix  2009-04-26   \n4       5  2009      5          4     Spanish Grand Prix  2009-05-10   \n\n       time                                                url fp1_date  \\\n0  06:00:00  http://en.wikipedia.org/wiki/2009_Australian_G...       \\N   \n1  09:00:00  http://en.wikipedia.org/wiki/2009_Malaysian_Gr...       \\N   \n2  07:00:00  http://en.wikipedia.org/wiki/2009_Chinese_Gran...       \\N   \n3  12:00:00  http://en.wikipedia.org/wiki/2009_Bahrain_Gran...       \\N   \n4  12:00:00  http://en.wikipedia.org/wiki/2009_Spanish_Gran...       \\N   \n\n  fp1_time fp2_date fp2_time fp3_date fp3_time quali_date quali_time  \\\n0       \\N       \\N       \\N       \\N       \\N         \\N         \\N   \n1       \\N       \\N       \\N       \\N       \\N         \\N         \\N   \n2       \\N       \\N       \\N       \\N       \\N         \\N         \\N   \n3       \\N       \\N       \\N       \\N       \\N         \\N         \\N   \n4       \\N       \\N       \\N       \\N       \\N         \\N         \\N   \n\n  sprint_date sprint_time  \n0          \\N          \\N  \n1          \\N          \\N  \n2          \\N          \\N  \n3          \\N          \\N  \n4          \\N          \\N  ",
      "text/html": "<div>\n<style scoped>\n    .dataframe tbody tr th:only-of-type {\n        vertical-align: middle;\n    }\n\n    .dataframe tbody tr th {\n        vertical-align: top;\n    }\n\n    .dataframe thead th {\n        text-align: right;\n    }\n</style>\n<table border=\"1\" class=\"dataframe\">\n  <thead>\n    <tr style=\"text-align: right;\">\n      <th></th>\n      <th>raceId</th>\n      <th>year</th>\n      <th>round</th>\n      <th>circuitId</th>\n      <th>name</th>\n      <th>date</th>\n      <th>time</th>\n      <th>url</th>\n      <th>fp1_date</th>\n      <th>fp1_time</th>\n      <th>fp2_date</th>\n      <th>fp2_time</th>\n      <th>fp3_date</th>\n      <th>fp3_time</th>\n      <th>quali_date</th>\n      <th>quali_time</th>\n      <th>sprint_date</th>\n      <th>sprint_time</th>\n    </tr>\n  </thead>\n  <tbody>\n    <tr>\n      <th>0</th>\n      <td>1</td>\n      <td>2009</td>\n      <td>1</td>\n      <td>1</td>\n      <td>Australian Grand Prix</td>\n      <td>2009-03-29</td>\n      <td>06:00:00</td>\n      <td>http://en.wikipedia.org/wiki/2009_Australian_G...</td>\n      <td>\\N</td>\n      <td>\\N</td>\n      <td>\\N</td>\n      <td>\\N</td>\n      <td>\\N</td>\n      <td>\\N</td>\n      <td>\\N</td>\n      <td>\\N</td>\n      <td>\\N</td>\n      <td>\\N</td>\n    </tr>\n    <tr>\n      <th>1</th>\n      <td>2</td>\n      <td>2009</td>\n      <td>2</td>\n      <td>2</td>\n      <td>Malaysian Grand Prix</td>\n      <td>2009-04-05</td>\n      <td>09:00:00</td>\n      <td>http://en.wikipedia.org/wiki/2009_Malaysian_Gr...</td>\n      <td>\\N</td>\n      <td>\\N</td>\n      <td>\\N</td>\n      <td>\\N</td>\n      <td>\\N</td>\n      <td>\\N</td>\n      <td>\\N</td>\n      <td>\\N</td>\n      <td>\\N</td>\n      <td>\\N</td>\n    </tr>\n    <tr>\n      <th>2</th>\n      <td>3</td>\n      <td>2009</td>\n      <td>3</td>\n      <td>17</td>\n      <td>Chinese Grand Prix</td>\n      <td>2009-04-19</td>\n      <td>07:00:00</td>\n      <td>http://en.wikipedia.org/wiki/2009_Chinese_Gran...</td>\n      <td>\\N</td>\n      <td>\\N</td>\n      <td>\\N</td>\n      <td>\\N</td>\n      <td>\\N</td>\n      <td>\\N</td>\n      <td>\\N</td>\n      <td>\\N</td>\n      <td>\\N</td>\n      <td>\\N</td>\n    </tr>\n    <tr>\n      <th>3</th>\n      <td>4</td>\n      <td>2009</td>\n      <td>4</td>\n      <td>3</td>\n      <td>Bahrain Grand Prix</td>\n      <td>2009-04-26</td>\n      <td>12:00:00</td>\n      <td>http://en.wikipedia.org/wiki/2009_Bahrain_Gran...</td>\n      <td>\\N</td>\n      <td>\\N</td>\n      <td>\\N</td>\n      <td>\\N</td>\n      <td>\\N</td>\n      <td>\\N</td>\n      <td>\\N</td>\n      <td>\\N</td>\n      <td>\\N</td>\n      <td>\\N</td>\n    </tr>\n    <tr>\n      <th>4</th>\n      <td>5</td>\n      <td>2009</td>\n      <td>5</td>\n      <td>4</td>\n      <td>Spanish Grand Prix</td>\n      <td>2009-05-10</td>\n      <td>12:00:00</td>\n      <td>http://en.wikipedia.org/wiki/2009_Spanish_Gran...</td>\n      <td>\\N</td>\n      <td>\\N</td>\n      <td>\\N</td>\n      <td>\\N</td>\n      <td>\\N</td>\n      <td>\\N</td>\n      <td>\\N</td>\n      <td>\\N</td>\n      <td>\\N</td>\n      <td>\\N</td>\n    </tr>\n  </tbody>\n</table>\n</div>"
     },
     "execution_count": 7,
     "metadata": {},
     "output_type": "execute_result"
    }
   ],
   "source": [
    "races_df = load_dataset('races')\n",
    "races_df.head()"
   ],
   "metadata": {
    "collapsed": false,
    "ExecuteTime": {
     "end_time": "2024-01-18T23:09:54.228042173Z",
     "start_time": "2024-01-18T23:09:54.204810909Z"
    }
   },
   "id": "a3b245a8ac192f98",
   "execution_count": 7
  },
  {
   "cell_type": "code",
   "outputs": [
    {
     "data": {
      "text/plain": "   driverId   driverRef number code  forename     surname         dob  \\\n0         1    hamilton     44  HAM     Lewis    Hamilton  1985-01-07   \n1         2    heidfeld     \\N  HEI      Nick    Heidfeld  1977-05-10   \n2         3     rosberg      6  ROS      Nico     Rosberg  1985-06-27   \n3         4      alonso     14  ALO  Fernando      Alonso  1981-07-29   \n4         5  kovalainen     \\N  KOV    Heikki  Kovalainen  1981-10-19   \n\n  nationality                                             url  \n0     British     http://en.wikipedia.org/wiki/Lewis_Hamilton  \n1      German      http://en.wikipedia.org/wiki/Nick_Heidfeld  \n2      German       http://en.wikipedia.org/wiki/Nico_Rosberg  \n3     Spanish    http://en.wikipedia.org/wiki/Fernando_Alonso  \n4     Finnish  http://en.wikipedia.org/wiki/Heikki_Kovalainen  ",
      "text/html": "<div>\n<style scoped>\n    .dataframe tbody tr th:only-of-type {\n        vertical-align: middle;\n    }\n\n    .dataframe tbody tr th {\n        vertical-align: top;\n    }\n\n    .dataframe thead th {\n        text-align: right;\n    }\n</style>\n<table border=\"1\" class=\"dataframe\">\n  <thead>\n    <tr style=\"text-align: right;\">\n      <th></th>\n      <th>driverId</th>\n      <th>driverRef</th>\n      <th>number</th>\n      <th>code</th>\n      <th>forename</th>\n      <th>surname</th>\n      <th>dob</th>\n      <th>nationality</th>\n      <th>url</th>\n    </tr>\n  </thead>\n  <tbody>\n    <tr>\n      <th>0</th>\n      <td>1</td>\n      <td>hamilton</td>\n      <td>44</td>\n      <td>HAM</td>\n      <td>Lewis</td>\n      <td>Hamilton</td>\n      <td>1985-01-07</td>\n      <td>British</td>\n      <td>http://en.wikipedia.org/wiki/Lewis_Hamilton</td>\n    </tr>\n    <tr>\n      <th>1</th>\n      <td>2</td>\n      <td>heidfeld</td>\n      <td>\\N</td>\n      <td>HEI</td>\n      <td>Nick</td>\n      <td>Heidfeld</td>\n      <td>1977-05-10</td>\n      <td>German</td>\n      <td>http://en.wikipedia.org/wiki/Nick_Heidfeld</td>\n    </tr>\n    <tr>\n      <th>2</th>\n      <td>3</td>\n      <td>rosberg</td>\n      <td>6</td>\n      <td>ROS</td>\n      <td>Nico</td>\n      <td>Rosberg</td>\n      <td>1985-06-27</td>\n      <td>German</td>\n      <td>http://en.wikipedia.org/wiki/Nico_Rosberg</td>\n    </tr>\n    <tr>\n      <th>3</th>\n      <td>4</td>\n      <td>alonso</td>\n      <td>14</td>\n      <td>ALO</td>\n      <td>Fernando</td>\n      <td>Alonso</td>\n      <td>1981-07-29</td>\n      <td>Spanish</td>\n      <td>http://en.wikipedia.org/wiki/Fernando_Alonso</td>\n    </tr>\n    <tr>\n      <th>4</th>\n      <td>5</td>\n      <td>kovalainen</td>\n      <td>\\N</td>\n      <td>KOV</td>\n      <td>Heikki</td>\n      <td>Kovalainen</td>\n      <td>1981-10-19</td>\n      <td>Finnish</td>\n      <td>http://en.wikipedia.org/wiki/Heikki_Kovalainen</td>\n    </tr>\n  </tbody>\n</table>\n</div>"
     },
     "execution_count": 5,
     "metadata": {},
     "output_type": "execute_result"
    }
   ],
   "source": [
    "drivers_df = load_dataset('drivers')\n",
    "drivers_df.head()"
   ],
   "metadata": {
    "collapsed": false,
    "ExecuteTime": {
     "end_time": "2024-01-18T23:06:40.823600629Z",
     "start_time": "2024-01-18T23:06:40.771878578Z"
    }
   },
   "id": "d71634b6ffd6c795",
   "execution_count": 5
  },
  {
   "cell_type": "code",
   "outputs": [
    {
     "data": {
      "text/plain": "1018            Austrian Grand Prix\n1019             Styrian Grand Prix\n1020           Hungarian Grand Prix\n1021             British Grand Prix\n1022    70th Anniversary Grand Prix\n1023             Spanish Grand Prix\n1024             Belgian Grand Prix\n1025             Italian Grand Prix\n1026              Tuscan Grand Prix\n1027             Russian Grand Prix\n1028               Eifel Grand Prix\n1029          Portuguese Grand Prix\n1030      Emilia Romagna Grand Prix\n1031             Turkish Grand Prix\n1032             Bahrain Grand Prix\n1033              Sakhir Grand Prix\n1034           Abu Dhabi Grand Prix\nName: name, dtype: object"
     },
     "execution_count": 15,
     "metadata": {},
     "output_type": "execute_result"
    }
   ],
   "source": [
    "year = 2020\n",
    "race_name = 'Turkish Grand Prix'\n",
    "\n",
    "# Filter data for selected season\n",
    "races_for_season = races_df[races_df['year'] == year]\n",
    "# Return races in selected season\n",
    "races_for_season.name"
   ],
   "metadata": {
    "collapsed": false,
    "ExecuteTime": {
     "end_time": "2024-01-18T23:15:07.943352331Z",
     "start_time": "2024-01-18T23:15:07.933145868Z"
    }
   },
   "id": "fbb2d585b58785fe",
   "execution_count": 15
  },
  {
   "cell_type": "code",
   "outputs": [
    {
     "data": {
      "text/plain": "1044"
     },
     "execution_count": 39,
     "metadata": {},
     "output_type": "execute_result"
    }
   ],
   "source": [
    "# Filter data for selected race\n",
    "selected_race = races_for_season[races_for_season['name'] == race_name]\n",
    "assert len(selected_race) == 1, f'There are multiple races named {race_name} in year {year}'\n",
    "selected_race_id = selected_race['raceId'].values[0]\n",
    "selected_race_id"
   ],
   "metadata": {
    "collapsed": false,
    "ExecuteTime": {
     "end_time": "2024-01-18T23:22:49.107891368Z",
     "start_time": "2024-01-18T23:22:49.103479650Z"
    }
   },
   "id": "e5a6b331cc19f739",
   "execution_count": 39
  },
  {
   "cell_type": "code",
   "outputs": [
    {
     "data": {
      "text/plain": "   lap  position      time  milliseconds driver_number driver_code  \\\n0    1         1  1:59.973        119973            18         STR   \n1    2         1  1:55.125        115125            18         STR   \n2    3         1  1:54.247        114247            18         STR   \n3    4         1  1:54.170        114170            18         STR   \n4    5         1  1:53.516        113516            18         STR   \n\n  driver_full_name  \n0     Lance Stroll  \n1     Lance Stroll  \n2     Lance Stroll  \n3     Lance Stroll  \n4     Lance Stroll  ",
      "text/html": "<div>\n<style scoped>\n    .dataframe tbody tr th:only-of-type {\n        vertical-align: middle;\n    }\n\n    .dataframe tbody tr th {\n        vertical-align: top;\n    }\n\n    .dataframe thead th {\n        text-align: right;\n    }\n</style>\n<table border=\"1\" class=\"dataframe\">\n  <thead>\n    <tr style=\"text-align: right;\">\n      <th></th>\n      <th>lap</th>\n      <th>position</th>\n      <th>time</th>\n      <th>milliseconds</th>\n      <th>driver_number</th>\n      <th>driver_code</th>\n      <th>driver_full_name</th>\n    </tr>\n  </thead>\n  <tbody>\n    <tr>\n      <th>0</th>\n      <td>1</td>\n      <td>1</td>\n      <td>1:59.973</td>\n      <td>119973</td>\n      <td>18</td>\n      <td>STR</td>\n      <td>Lance Stroll</td>\n    </tr>\n    <tr>\n      <th>1</th>\n      <td>2</td>\n      <td>1</td>\n      <td>1:55.125</td>\n      <td>115125</td>\n      <td>18</td>\n      <td>STR</td>\n      <td>Lance Stroll</td>\n    </tr>\n    <tr>\n      <th>2</th>\n      <td>3</td>\n      <td>1</td>\n      <td>1:54.247</td>\n      <td>114247</td>\n      <td>18</td>\n      <td>STR</td>\n      <td>Lance Stroll</td>\n    </tr>\n    <tr>\n      <th>3</th>\n      <td>4</td>\n      <td>1</td>\n      <td>1:54.170</td>\n      <td>114170</td>\n      <td>18</td>\n      <td>STR</td>\n      <td>Lance Stroll</td>\n    </tr>\n    <tr>\n      <th>4</th>\n      <td>5</td>\n      <td>1</td>\n      <td>1:53.516</td>\n      <td>113516</td>\n      <td>18</td>\n      <td>STR</td>\n      <td>Lance Stroll</td>\n    </tr>\n  </tbody>\n</table>\n</div>"
     },
     "execution_count": 53,
     "metadata": {},
     "output_type": "execute_result"
    }
   ],
   "source": [
    "# Get lap times data for selected race\n",
    "lap_times_for_race = lap_times_df[lap_times_df['raceId'] == selected_race_id]\n",
    "# Merge driver info\n",
    "lap_times_for_race = pd.merge(lap_times_for_race, drivers_df, on='driverId')\n",
    "# Select only necessary data\n",
    "lap_times_for_race = lap_times_for_race[['lap', 'position', 'time', 'milliseconds', 'number', 'code', 'forename', 'surname']]\n",
    "# Combine driver name and surname\n",
    "lap_times_for_race['driver_full_name'] = lap_times_for_race['forename'] + ' ' + lap_times_for_race['surname']\n",
    "lap_times_for_race.drop(['forename', 'surname'], axis=1, inplace=True)\n",
    "# Rename columns for clarity\n",
    "lap_times_for_race.rename(columns={'number': 'driver_number', 'code': 'driver_code'}, inplace=True) \n",
    "lap_times_for_race.head()"
   ],
   "metadata": {
    "collapsed": false,
    "ExecuteTime": {
     "end_time": "2024-01-19T00:07:55.178267928Z",
     "start_time": "2024-01-19T00:07:55.133326181Z"
    }
   },
   "id": "e23c1dc2ac4c635e",
   "execution_count": 53
  },
  {
   "cell_type": "code",
   "outputs": [
    {
     "data": {
      "application/vnd.plotly.v1+json": {
       "data": [
        {
         "hovertemplate": "Full Name=Lance Stroll<br>Lap=%{x}<br>Lap Time (ms)=%{y}<extra></extra>",
         "legendgroup": "Lance Stroll",
         "line": {
          "color": "#636efa",
          "dash": "solid"
         },
         "marker": {
          "symbol": "circle"
         },
         "mode": "lines",
         "name": "Lance Stroll",
         "showlegend": true,
         "x": [
          1,
          2,
          3,
          4,
          5,
          6,
          7,
          8,
          9,
          10,
          11,
          12,
          13,
          14,
          15,
          16,
          17,
          18,
          19,
          20,
          21,
          22,
          23,
          24,
          25,
          26,
          27,
          28,
          29,
          30,
          31,
          32,
          33,
          34,
          35,
          36,
          37,
          38,
          39,
          40,
          41,
          42,
          43,
          44,
          45,
          46,
          47,
          48,
          49,
          50,
          51,
          52,
          53,
          54,
          55,
          56,
          57,
          58
         ],
         "xaxis": "x",
         "y": [
          119973,
          115125,
          114247,
          114170,
          113516,
          114053,
          113335,
          114094,
          113336,
          131349,
          107275,
          106571,
          109736,
          131538,
          111012,
          106317,
          104386,
          103951,
          105624,
          105144,
          104249,
          104459,
          104864,
          105034,
          104359,
          104414,
          104361,
          104393,
          103772,
          103591,
          103383,
          103390,
          103691,
          104500,
          103960,
          105811,
          123558,
          104764,
          107946,
          106463,
          106494,
          105310,
          104291,
          103853,
          103244,
          103629,
          103006,
          102143,
          101924,
          100965,
          101691,
          100825,
          100841,
          100439,
          99921,
          102847,
          101471,
          103058
         ],
         "yaxis": "y",
         "type": "scattergl"
        },
        {
         "hovertemplate": "Full Name=Sergio Pérez<br>Lap=%{x}<br>Lap Time (ms)=%{y}<extra></extra>",
         "legendgroup": "Sergio Pérez",
         "line": {
          "color": "#EF553B",
          "dash": "solid"
         },
         "marker": {
          "symbol": "circle"
         },
         "mode": "lines",
         "name": "Sergio Pérez",
         "showlegend": true,
         "x": [
          1,
          2,
          3,
          4,
          5,
          6,
          7,
          8,
          9,
          10,
          11,
          12,
          13,
          14,
          15,
          16,
          17,
          18,
          19,
          20,
          21,
          22,
          23,
          24,
          25,
          26,
          27,
          28,
          29,
          30,
          31,
          32,
          33,
          34,
          35,
          36,
          37,
          38,
          39,
          40,
          41,
          42,
          43,
          44,
          45,
          46,
          47,
          48,
          49,
          50,
          51,
          52,
          53,
          54,
          55,
          56,
          57,
          58
         ],
         "xaxis": "x",
         "y": [
          123644,
          116790,
          115002,
          114339,
          113215,
          113030,
          114219,
          112989,
          113194,
          112914,
          131088,
          107380,
          108306,
          128386,
          114009,
          105323,
          105211,
          105370,
          103377,
          103531,
          103267,
          104075,
          103681,
          104516,
          104928,
          103872,
          104040,
          104276,
          104068,
          103806,
          103600,
          103120,
          102225,
          103841,
          103477,
          104117,
          104418,
          104581,
          103834,
          103459,
          103401,
          102645,
          102194,
          102557,
          102152,
          101654,
          101704,
          101256,
          100971,
          100392,
          101343,
          101086,
          101805,
          101249,
          101974,
          100455,
          101217,
          104373
         ],
         "yaxis": "y",
         "type": "scattergl"
        },
        {
         "hovertemplate": "Full Name=Sebastian Vettel<br>Lap=%{x}<br>Lap Time (ms)=%{y}<extra></extra>",
         "legendgroup": "Sebastian Vettel",
         "line": {
          "color": "#00cc96",
          "dash": "solid"
         },
         "marker": {
          "symbol": "circle"
         },
         "mode": "lines",
         "name": "Sebastian Vettel",
         "showlegend": true,
         "x": [
          1,
          2,
          3,
          4,
          5,
          6,
          7,
          8,
          9,
          10,
          11,
          12,
          13,
          14,
          15,
          16,
          17,
          18,
          19,
          20,
          21,
          22,
          23,
          24,
          25,
          26,
          27,
          28,
          29,
          30,
          31,
          32,
          33,
          34,
          35,
          36,
          37,
          38,
          39,
          40,
          41,
          42,
          43,
          44,
          45,
          46,
          47,
          48,
          49,
          50,
          51,
          52,
          53,
          54,
          55,
          56,
          57,
          58
         ],
         "xaxis": "x",
         "y": [
          128656,
          118303,
          116056,
          115377,
          114100,
          113284,
          112899,
          113094,
          130845,
          109322,
          109439,
          110603,
          113100,
          127391,
          115131,
          108022,
          106067,
          105212,
          104705,
          103418,
          102734,
          102820,
          103142,
          102811,
          103092,
          103211,
          103200,
          102972,
          103714,
          103467,
          103949,
          103835,
          103841,
          124163,
          101955,
          103248,
          102949,
          103173,
          103907,
          102094,
          101270,
          101479,
          101319,
          101141,
          100450,
          100711,
          100514,
          100822,
          100904,
          101623,
          100525,
          101901,
          99662,
          99685,
          99692,
          99868,
          100103,
          100303
         ],
         "yaxis": "y",
         "type": "scattergl"
        },
        {
         "hovertemplate": "Full Name=Max Verstappen<br>Lap=%{x}<br>Lap Time (ms)=%{y}<extra></extra>",
         "legendgroup": "Max Verstappen",
         "line": {
          "color": "#ab63fa",
          "dash": "solid"
         },
         "marker": {
          "symbol": "circle"
         },
         "mode": "lines",
         "name": "Max Verstappen",
         "showlegend": true,
         "x": [
          1,
          2,
          3,
          4,
          5,
          6,
          7,
          8,
          9,
          10,
          11,
          12,
          13,
          14,
          15,
          16,
          17,
          18,
          19,
          20,
          21,
          22,
          23,
          24,
          25,
          26,
          27,
          28,
          29,
          30,
          31,
          32,
          33,
          34,
          35,
          36,
          37,
          38,
          39,
          40,
          41,
          42,
          43,
          44,
          45,
          46,
          47,
          48,
          49,
          50,
          51,
          52,
          53,
          54,
          55,
          56,
          57,
          58
         ],
         "xaxis": "x",
         "y": [
          129685,
          119069,
          115266,
          115259,
          114134,
          113330,
          112893,
          112703,
          111091,
          108610,
          109567,
          127358,
          110639,
          127347,
          111995,
          105353,
          105189,
          120327,
          119670,
          102093,
          101479,
          104400,
          103546,
          103262,
          103483,
          104165,
          103637,
          103340,
          102803,
          103239,
          104017,
          104057,
          102444,
          101733,
          102092,
          101953,
          102324,
          101166,
          102565,
          101760,
          102293,
          103207,
          106109,
          116618,
          99706,
          100797,
          101300,
          100527,
          101247,
          100786,
          102204,
          98729,
          98431,
          99830,
          98821,
          102824,
          101049,
          100665
         ],
         "yaxis": "y",
         "type": "scattergl"
        },
        {
         "hovertemplate": "Full Name=Alexander Albon<br>Lap=%{x}<br>Lap Time (ms)=%{y}<extra></extra>",
         "legendgroup": "Alexander Albon",
         "line": {
          "color": "#FFA15A",
          "dash": "solid"
         },
         "marker": {
          "symbol": "circle"
         },
         "mode": "lines",
         "name": "Alexander Albon",
         "showlegend": true,
         "x": [
          1,
          2,
          3,
          4,
          5,
          6,
          7,
          8,
          9,
          10,
          11,
          12,
          13,
          14,
          15,
          16,
          17,
          18,
          19,
          20,
          21,
          22,
          23,
          24,
          25,
          26,
          27,
          28,
          29,
          30,
          31,
          32,
          33,
          34,
          35,
          36,
          37,
          38,
          39,
          40,
          41,
          42,
          43,
          44,
          45,
          46,
          47,
          48,
          49,
          50,
          51,
          52,
          53,
          54,
          55,
          56,
          57,
          58
         ],
         "xaxis": "x",
         "y": [
          131074,
          118566,
          117469,
          114568,
          113656,
          113544,
          112985,
          112239,
          111613,
          110440,
          110423,
          110231,
          133494,
          126329,
          111892,
          105092,
          103350,
          102525,
          102325,
          102141,
          102464,
          103120,
          103259,
          104865,
          104535,
          104502,
          104218,
          104332,
          106119,
          103883,
          103949,
          103293,
          102781,
          113814,
          119679,
          101419,
          102423,
          103008,
          103912,
          105619,
          102817,
          102123,
          101588,
          101869,
          101287,
          101768,
          100691,
          101367,
          101843,
          100546,
          101260,
          101407,
          99621,
          99099,
          99644,
          102729,
          100747,
          100241
         ],
         "yaxis": "y",
         "type": "scattergl"
        },
        {
         "hovertemplate": "Full Name=Lewis Hamilton<br>Lap=%{x}<br>Lap Time (ms)=%{y}<extra></extra>",
         "legendgroup": "Lewis Hamilton",
         "line": {
          "color": "#19d3f3",
          "dash": "solid"
         },
         "marker": {
          "symbol": "circle"
         },
         "mode": "lines",
         "name": "Lewis Hamilton",
         "showlegend": true,
         "x": [
          1,
          2,
          3,
          4,
          5,
          6,
          7,
          8,
          9,
          10,
          11,
          12,
          13,
          14,
          15,
          16,
          17,
          18,
          19,
          20,
          21,
          22,
          23,
          24,
          25,
          26,
          27,
          28,
          29,
          30,
          31,
          32,
          33,
          34,
          35,
          36,
          37,
          38,
          39,
          40,
          41,
          42,
          43,
          44,
          45,
          46,
          47,
          48,
          49,
          50,
          51,
          52,
          53,
          54,
          55,
          56,
          57,
          58
         ],
         "xaxis": "x",
         "y": [
          131904,
          119881,
          116659,
          115018,
          114724,
          113283,
          112562,
          114401,
          128857,
          105872,
          109209,
          110239,
          114471,
          126654,
          115353,
          107193,
          106044,
          105723,
          104116,
          103948,
          102909,
          103593,
          104136,
          103780,
          103136,
          102092,
          102711,
          102995,
          102475,
          103238,
          103783,
          104355,
          102318,
          101664,
          101658,
          102606,
          102089,
          101956,
          101866,
          100637,
          100261,
          99999,
          100489,
          100591,
          100979,
          102168,
          100768,
          101385,
          100976,
          100483,
          100435,
          99875,
          100365,
          100466,
          100732,
          99413,
          99572,
          100248
         ],
         "yaxis": "y",
         "type": "scattergl"
        },
        {
         "hovertemplate": "Full Name=Daniel Ricciardo<br>Lap=%{x}<br>Lap Time (ms)=%{y}<extra></extra>",
         "legendgroup": "Daniel Ricciardo",
         "line": {
          "color": "#FF6692",
          "dash": "solid"
         },
         "marker": {
          "symbol": "circle"
         },
         "mode": "lines",
         "name": "Daniel Ricciardo",
         "showlegend": true,
         "x": [
          1,
          2,
          3,
          4,
          5,
          6,
          7,
          8,
          9,
          10,
          11,
          12,
          13,
          14,
          15,
          16,
          17,
          18,
          19,
          20,
          21,
          22,
          23,
          24,
          25,
          26,
          27,
          28,
          29,
          30,
          31,
          32,
          33,
          34,
          35,
          36,
          37,
          38,
          39,
          40,
          41,
          42,
          43,
          44,
          45,
          46,
          47,
          48,
          49,
          50,
          51,
          52,
          53,
          54,
          55,
          56,
          57,
          58
         ],
         "xaxis": "x",
         "y": [
          132618,
          120881,
          117046,
          115701,
          114539,
          113434,
          113289,
          112799,
          112342,
          113727,
          128902,
          108547,
          117130,
          125923,
          112095,
          106657,
          105990,
          105300,
          105116,
          104697,
          103969,
          103653,
          103448,
          103093,
          103141,
          103076,
          102943,
          103722,
          103501,
          104575,
          104665,
          107848,
          121695,
          103570,
          103969,
          105166,
          103941,
          103316,
          104150,
          105578,
          105508,
          105127,
          105116,
          103151,
          102274,
          101840,
          101610,
          107703,
          101541,
          102386,
          101350,
          101307,
          101213,
          100677,
          101269,
          102247,
          102132,
          102570
         ],
         "yaxis": "y",
         "type": "scattergl"
        },
        {
         "hovertemplate": "Full Name=Kimi Räikkönen<br>Lap=%{x}<br>Lap Time (ms)=%{y}<extra></extra>",
         "legendgroup": "Kimi Räikkönen",
         "line": {
          "color": "#B6E880",
          "dash": "solid"
         },
         "marker": {
          "symbol": "circle"
         },
         "mode": "lines",
         "name": "Kimi Räikkönen",
         "showlegend": true,
         "x": [
          1,
          2,
          3,
          4,
          5,
          6,
          7,
          8,
          9,
          10,
          11,
          12,
          13,
          14,
          15,
          16,
          17,
          18,
          19,
          20,
          21,
          22,
          23,
          24,
          25,
          26,
          27,
          28,
          29,
          30,
          31,
          32,
          33,
          34,
          35,
          36,
          37,
          38,
          39,
          40,
          41,
          42,
          43,
          44,
          45,
          46,
          47,
          48,
          49,
          50,
          51,
          52,
          53,
          54,
          55,
          56,
          57
         ],
         "xaxis": "x",
         "y": [
          134918,
          120377,
          118478,
          116508,
          118955,
          116634,
          115279,
          115858,
          139440,
          110839,
          112458,
          112178,
          123240,
          126323,
          110474,
          109911,
          107584,
          106662,
          107418,
          105095,
          104923,
          104470,
          105747,
          104422,
          104888,
          105077,
          105433,
          105468,
          107232,
          106601,
          134006,
          102726,
          103680,
          103842,
          103789,
          103667,
          102783,
          102465,
          103168,
          102204,
          102469,
          101747,
          101663,
          102251,
          102915,
          103542,
          107432,
          103716,
          107816,
          112331,
          121536,
          100589,
          101503,
          103014,
          101329,
          102852,
          99743
         ],
         "yaxis": "y",
         "type": "scattergl"
        },
        {
         "hovertemplate": "Full Name=Carlos Sainz<br>Lap=%{x}<br>Lap Time (ms)=%{y}<extra></extra>",
         "legendgroup": "Carlos Sainz",
         "line": {
          "color": "#FF97FF",
          "dash": "solid"
         },
         "marker": {
          "symbol": "circle"
         },
         "mode": "lines",
         "name": "Carlos Sainz",
         "showlegend": true,
         "x": [
          1,
          2,
          3,
          4,
          5,
          6,
          7,
          8,
          9,
          10,
          11,
          12,
          13,
          14,
          15,
          16,
          17,
          18,
          19,
          20,
          21,
          22,
          23,
          24,
          25,
          26,
          27,
          28,
          29,
          30,
          31,
          32,
          33,
          34,
          35,
          36,
          37,
          38,
          39,
          40,
          41,
          42,
          43,
          44,
          45,
          46,
          47,
          48,
          49,
          50,
          51,
          52,
          53,
          54,
          55,
          56,
          57,
          58
         ],
         "xaxis": "x",
         "y": [
          135726,
          122115,
          117336,
          116216,
          115227,
          113255,
          113171,
          112726,
          111671,
          112789,
          127973,
          107450,
          116781,
          126450,
          111374,
          106712,
          105807,
          105464,
          104270,
          105156,
          104343,
          103667,
          103325,
          103683,
          103955,
          103573,
          103780,
          102943,
          102863,
          103637,
          104048,
          104139,
          103533,
          119034,
          100208,
          101574,
          102576,
          102590,
          102515,
          102556,
          105448,
          100635,
          100289,
          99718,
          100521,
          100356,
          100312,
          101542,
          100387,
          100051,
          100204,
          99120,
          99247,
          102075,
          99509,
          98754,
          99290,
          100007
         ],
         "yaxis": "y",
         "type": "scattergl"
        },
        {
         "hovertemplate": "Full Name=Kevin Magnussen<br>Lap=%{x}<br>Lap Time (ms)=%{y}<extra></extra>",
         "legendgroup": "Kevin Magnussen",
         "line": {
          "color": "#FECB52",
          "dash": "solid"
         },
         "marker": {
          "symbol": "circle"
         },
         "mode": "lines",
         "name": "Kevin Magnussen",
         "showlegend": true,
         "x": [
          1,
          2,
          3,
          4,
          5,
          6,
          7,
          8,
          9,
          10,
          11,
          12,
          13,
          14,
          15,
          16,
          17,
          18,
          19,
          20,
          21,
          22,
          23,
          24,
          25,
          26,
          27,
          28,
          29,
          30,
          31,
          32,
          33,
          34,
          35,
          36,
          37,
          38,
          39,
          40,
          41,
          42,
          43,
          44,
          45,
          46,
          47,
          48,
          49,
          50,
          51,
          52,
          53,
          54,
          55
         ],
         "xaxis": "x",
         "y": [
          137492,
          124042,
          119226,
          117789,
          117631,
          115193,
          114266,
          115785,
          133342,
          111561,
          109969,
          108826,
          126997,
          126797,
          110182,
          110705,
          106891,
          105215,
          105254,
          105234,
          104263,
          104802,
          104526,
          105394,
          104775,
          104853,
          106445,
          108321,
          104273,
          104131,
          104558,
          102989,
          102616,
          103597,
          256506,
          102920,
          102520,
          102938,
          102501,
          105391,
          106014,
          102161,
          101691,
          110839,
          100948,
          102541,
          102528,
          102777,
          101924,
          101502,
          101873,
          101215,
          101879,
          102327,
          104580
         ],
         "yaxis": "y",
         "type": "scattergl"
        },
        {
         "hovertemplate": "Full Name=Antonio Giovinazzi<br>Lap=%{x}<br>Lap Time (ms)=%{y}<extra></extra>",
         "legendgroup": "Antonio Giovinazzi",
         "line": {
          "color": "#636efa",
          "dash": "solid"
         },
         "marker": {
          "symbol": "circle"
         },
         "mode": "lines",
         "name": "Antonio Giovinazzi",
         "showlegend": true,
         "x": [
          1,
          2,
          3,
          4,
          5,
          6,
          7,
          8,
          9,
          10,
          11
         ],
         "xaxis": "x",
         "y": [
          137762,
          124423,
          121884,
          120200,
          117415,
          116650,
          117201,
          116474,
          136363,
          113659,
          111122
         ],
         "yaxis": "y",
         "type": "scattergl"
        },
        {
         "hovertemplate": "Full Name=Daniil Kvyat<br>Lap=%{x}<br>Lap Time (ms)=%{y}<extra></extra>",
         "legendgroup": "Daniil Kvyat",
         "line": {
          "color": "#EF553B",
          "dash": "solid"
         },
         "marker": {
          "symbol": "circle"
         },
         "mode": "lines",
         "name": "Daniil Kvyat",
         "showlegend": true,
         "x": [
          1,
          2,
          3,
          4,
          5,
          6,
          7,
          8,
          9,
          10,
          11,
          12,
          13,
          14,
          15,
          16,
          17,
          18,
          19,
          20,
          21,
          22,
          23,
          24,
          25,
          26,
          27,
          28,
          29,
          30,
          31,
          32,
          33,
          34,
          35,
          36,
          37,
          38,
          39,
          40,
          41,
          42,
          43,
          44,
          45,
          46,
          47,
          48,
          49,
          50,
          51,
          52,
          53,
          54,
          55,
          56,
          57
         ],
         "xaxis": "x",
         "y": [
          139499,
          125252,
          121207,
          119909,
          118074,
          117199,
          116003,
          119309,
          134555,
          113346,
          112051,
          109868,
          124256,
          124705,
          108900,
          108315,
          114086,
          106155,
          104660,
          104067,
          104369,
          104193,
          103981,
          103710,
          104450,
          104561,
          104859,
          104645,
          104338,
          103918,
          102936,
          103286,
          102608,
          102909,
          102671,
          102692,
          102186,
          102668,
          102577,
          102613,
          103330,
          102634,
          101461,
          102294,
          102223,
          101255,
          101706,
          103633,
          101569,
          101312,
          101406,
          102728,
          101019,
          104796,
          101591,
          104841,
          102818
         ],
         "yaxis": "y",
         "type": "scattergl"
        },
        {
         "hovertemplate": "Full Name=Pierre Gasly<br>Lap=%{x}<br>Lap Time (ms)=%{y}<extra></extra>",
         "legendgroup": "Pierre Gasly",
         "line": {
          "color": "#00cc96",
          "dash": "solid"
         },
         "marker": {
          "symbol": "circle"
         },
         "mode": "lines",
         "name": "Pierre Gasly",
         "showlegend": true,
         "x": [
          1,
          2,
          3,
          4,
          5,
          6,
          7,
          8,
          9,
          10,
          11,
          12,
          13,
          14,
          15,
          16,
          17,
          18,
          19,
          20,
          21,
          22,
          23,
          24,
          25,
          26,
          27,
          28,
          29,
          30,
          31,
          32,
          33,
          34,
          35,
          36,
          37,
          38,
          39,
          40,
          41,
          42,
          43,
          44,
          45,
          46,
          47,
          48,
          49,
          50,
          51,
          52,
          53,
          54,
          55,
          56,
          57
         ],
         "xaxis": "x",
         "y": [
          140954,
          124663,
          121401,
          120133,
          118285,
          116787,
          116140,
          116916,
          112755,
          112699,
          128010,
          107230,
          124542,
          125219,
          109695,
          109076,
          106555,
          105902,
          107118,
          105469,
          104809,
          104479,
          105781,
          104989,
          105096,
          104854,
          105140,
          105010,
          105524,
          103791,
          103968,
          104279,
          104601,
          122995,
          103508,
          103742,
          102572,
          102676,
          102412,
          103368,
          101160,
          100934,
          102599,
          100866,
          102031,
          102949,
          101911,
          104102,
          100452,
          100570,
          99708,
          100739,
          99586,
          101880,
          100685,
          100630,
          99668
         ],
         "yaxis": "y",
         "type": "scattergl"
        },
        {
         "hovertemplate": "Full Name=Charles Leclerc<br>Lap=%{x}<br>Lap Time (ms)=%{y}<extra></extra>",
         "legendgroup": "Charles Leclerc",
         "line": {
          "color": "#ab63fa",
          "dash": "solid"
         },
         "marker": {
          "symbol": "circle"
         },
         "mode": "lines",
         "name": "Charles Leclerc",
         "showlegend": true,
         "x": [
          1,
          2,
          3,
          4,
          5,
          6,
          7,
          8,
          9,
          10,
          11,
          12,
          13,
          14,
          15,
          16,
          17,
          18,
          19,
          20,
          21,
          22,
          23,
          24,
          25,
          26,
          27,
          28,
          29,
          30,
          31,
          32,
          33,
          34,
          35,
          36,
          37,
          38,
          39,
          40,
          41,
          42,
          43,
          44,
          45,
          46,
          47,
          48,
          49,
          50,
          51,
          52,
          53,
          54,
          55,
          56,
          57,
          58
         ],
         "xaxis": "x",
         "y": [
          141526,
          124853,
          121375,
          119889,
          118425,
          117786,
          130329,
          113315,
          109771,
          110429,
          110700,
          106893,
          124007,
          126421,
          106652,
          104173,
          102570,
          102857,
          102641,
          101990,
          102409,
          101670,
          102444,
          103837,
          102747,
          103314,
          103691,
          103180,
          103496,
          103500,
          119196,
          100962,
          100666,
          101586,
          101317,
          101266,
          101426,
          102935,
          101841,
          100431,
          100312,
          100327,
          100900,
          100283,
          100613,
          100238,
          99961,
          100244,
          100731,
          102336,
          101625,
          100262,
          100779,
          101094,
          100264,
          100183,
          100212,
          104291
         ],
         "yaxis": "y",
         "type": "scattergl"
        },
        {
         "hovertemplate": "Full Name=Lando Norris<br>Lap=%{x}<br>Lap Time (ms)=%{y}<extra></extra>",
         "legendgroup": "Lando Norris",
         "line": {
          "color": "#FFA15A",
          "dash": "solid"
         },
         "marker": {
          "symbol": "circle"
         },
         "mode": "lines",
         "name": "Lando Norris",
         "showlegend": true,
         "x": [
          1,
          2,
          3,
          4,
          5,
          6,
          7,
          8,
          9,
          10,
          11,
          12,
          13,
          14,
          15,
          16,
          17,
          18,
          19,
          20,
          21,
          22,
          23,
          24,
          25,
          26,
          27,
          28,
          29,
          30,
          31,
          32,
          33,
          34,
          35,
          36,
          37,
          38,
          39,
          40,
          41,
          42,
          43,
          44,
          45,
          46,
          47,
          48,
          49,
          50,
          51,
          52,
          53,
          54,
          55,
          56,
          57,
          58
         ],
         "xaxis": "x",
         "y": [
          143668,
          124681,
          120938,
          119566,
          118176,
          117099,
          115263,
          116555,
          114627,
          126018,
          108431,
          107864,
          124355,
          125619,
          109966,
          108632,
          106872,
          106273,
          105042,
          105125,
          104615,
          103991,
          104359,
          105629,
          103344,
          104830,
          104900,
          102218,
          103097,
          102793,
          102723,
          102792,
          101783,
          101427,
          101287,
          102273,
          119401,
          99796,
          100329,
          102503,
          101967,
          102101,
          101808,
          102065,
          102171,
          101576,
          100833,
          101732,
          100061,
          100070,
          98471,
          98057,
          97603,
          98226,
          99806,
          99214,
          99145,
          96806
         ],
         "yaxis": "y",
         "type": "scattergl"
        },
        {
         "hovertemplate": "Full Name=Romain Grosjean<br>Lap=%{x}<br>Lap Time (ms)=%{y}<extra></extra>",
         "legendgroup": "Romain Grosjean",
         "line": {
          "color": "#19d3f3",
          "dash": "solid"
         },
         "marker": {
          "symbol": "circle"
         },
         "mode": "lines",
         "name": "Romain Grosjean",
         "showlegend": true,
         "x": [
          1,
          2,
          3,
          4,
          5,
          6,
          7,
          8,
          9,
          10,
          11,
          12,
          13,
          14,
          15,
          16,
          17,
          18,
          19,
          20,
          21,
          22,
          23,
          24,
          25,
          26,
          27,
          28,
          29,
          30,
          31,
          32,
          33,
          34,
          35,
          36,
          37,
          38,
          39,
          40,
          41,
          42,
          43,
          44,
          45,
          46,
          47,
          48,
          49
         ],
         "xaxis": "x",
         "y": [
          144084,
          126933,
          124367,
          119439,
          118713,
          118901,
          115997,
          117507,
          135743,
          112232,
          109985,
          111162,
          124988,
          123798,
          111290,
          108027,
          106960,
          106215,
          106478,
          106434,
          106432,
          105477,
          106478,
          106063,
          105693,
          105639,
          107411,
          114260,
          106015,
          105120,
          104748,
          105056,
          103961,
          104128,
          104527,
          108755,
          129716,
          103281,
          127545,
          105123,
          105545,
          104004,
          104108,
          103728,
          104824,
          117719,
          108751,
          109349,
          105674
         ],
         "yaxis": "y",
         "type": "scattergl"
        },
        {
         "hovertemplate": "Full Name=George Russell<br>Lap=%{x}<br>Lap Time (ms)=%{y}<extra></extra>",
         "legendgroup": "George Russell",
         "line": {
          "color": "#FF6692",
          "dash": "solid"
         },
         "marker": {
          "symbol": "circle"
         },
         "mode": "lines",
         "name": "George Russell",
         "showlegend": true,
         "x": [
          1,
          2,
          3,
          4,
          5,
          6,
          7,
          8,
          9,
          10,
          11,
          12,
          13,
          14,
          15,
          16,
          17,
          18,
          19,
          20,
          21,
          22,
          23,
          24,
          25,
          26,
          27,
          28,
          29,
          30,
          31,
          32,
          33,
          34,
          35,
          36,
          37,
          38,
          39,
          40,
          41,
          42,
          43,
          44,
          45,
          46,
          47,
          48,
          49,
          50,
          51,
          52,
          53,
          54,
          55,
          56,
          57
         ],
         "xaxis": "x",
         "y": [
          147980,
          129862,
          122790,
          120833,
          118792,
          116634,
          115621,
          114228,
          112942,
          111091,
          109730,
          109594,
          122770,
          126410,
          111523,
          109674,
          106993,
          106182,
          105415,
          105021,
          104358,
          104204,
          104551,
          107054,
          107223,
          105613,
          105229,
          105619,
          105114,
          104622,
          104457,
          105196,
          122800,
          103942,
          103742,
          105417,
          106030,
          106931,
          107757,
          106107,
          108165,
          107418,
          121348,
          103262,
          104091,
          103467,
          104630,
          105165,
          106440,
          101889,
          100814,
          101599,
          101739,
          104356,
          104647,
          105572,
          102992
         ],
         "yaxis": "y",
         "type": "scattergl"
        },
        {
         "hovertemplate": "Full Name=Valtteri Bottas<br>Lap=%{x}<br>Lap Time (ms)=%{y}<extra></extra>",
         "legendgroup": "Valtteri Bottas",
         "line": {
          "color": "#B6E880",
          "dash": "solid"
         },
         "marker": {
          "symbol": "circle"
         },
         "mode": "lines",
         "name": "Valtteri Bottas",
         "showlegend": true,
         "x": [
          1,
          2,
          3,
          4,
          5,
          6,
          7,
          8,
          9,
          10,
          11,
          12,
          13,
          14,
          15,
          16,
          17,
          18,
          19,
          20,
          21,
          22,
          23,
          24,
          25,
          26,
          27,
          28,
          29,
          30,
          31,
          32,
          33,
          34,
          35,
          36,
          37,
          38,
          39,
          40,
          41,
          42,
          43,
          44,
          45,
          46,
          47,
          48,
          49,
          50,
          51,
          52,
          53,
          54,
          55,
          56,
          57
         ],
         "xaxis": "x",
         "y": [
          148432,
          123530,
          120309,
          117473,
          118254,
          118218,
          116556,
          129177,
          110923,
          112489,
          106579,
          108940,
          122471,
          126620,
          114699,
          115273,
          105484,
          104979,
          104741,
          105390,
          117855,
          104353,
          104057,
          102689,
          103754,
          104748,
          105151,
          104654,
          104525,
          103621,
          102886,
          102919,
          102927,
          102570,
          102537,
          102628,
          102475,
          102684,
          104476,
          114673,
          101666,
          100673,
          100416,
          101714,
          108022,
          109648,
          121933,
          101684,
          103951,
          101793,
          102921,
          106388,
          102308,
          100939,
          100770,
          101789,
          98193
         ],
         "yaxis": "y",
         "type": "scattergl"
        },
        {
         "hovertemplate": "Full Name=Esteban Ocon<br>Lap=%{x}<br>Lap Time (ms)=%{y}<extra></extra>",
         "legendgroup": "Esteban Ocon",
         "line": {
          "color": "#FF97FF",
          "dash": "solid"
         },
         "marker": {
          "symbol": "circle"
         },
         "mode": "lines",
         "name": "Esteban Ocon",
         "showlegend": true,
         "x": [
          1,
          2,
          3,
          4,
          5,
          6,
          7,
          8,
          9,
          10,
          11,
          12,
          13,
          14,
          15,
          16,
          17,
          18,
          19,
          20,
          21,
          22,
          23,
          24,
          25,
          26,
          27,
          28,
          29,
          30,
          31,
          32,
          33,
          34,
          35,
          36,
          37,
          38,
          39,
          40,
          41,
          42,
          43,
          44,
          45,
          46,
          47,
          48,
          49,
          50,
          51,
          52,
          53,
          54,
          55,
          56,
          57
         ],
         "xaxis": "x",
         "y": [
          153513,
          137982,
          119312,
          114844,
          115387,
          116832,
          115294,
          115056,
          114115,
          114935,
          128922,
          109531,
          126086,
          121433,
          106990,
          106084,
          105275,
          104266,
          104584,
          104128,
          104671,
          103790,
          104886,
          105173,
          104925,
          104974,
          104983,
          104754,
          105293,
          104897,
          103242,
          103018,
          103050,
          102309,
          101924,
          102423,
          102495,
          102249,
          102049,
          102565,
          101908,
          102082,
          102081,
          101897,
          102295,
          101686,
          101813,
          102312,
          101792,
          102356,
          101211,
          101108,
          102455,
          101235,
          101006,
          101320,
          106456
         ],
         "yaxis": "y",
         "type": "scattergl"
        },
        {
         "hovertemplate": "Full Name=Nicholas Latifi<br>Lap=%{x}<br>Lap Time (ms)=%{y}<extra></extra>",
         "legendgroup": "Nicholas Latifi",
         "line": {
          "color": "#FECB52",
          "dash": "solid"
         },
         "marker": {
          "symbol": "circle"
         },
         "mode": "lines",
         "name": "Nicholas Latifi",
         "showlegend": true,
         "x": [
          1,
          2,
          3,
          4,
          5,
          6,
          7,
          8,
          9,
          10,
          11,
          12,
          13,
          14,
          15,
          16,
          17,
          18,
          19,
          20,
          21,
          22,
          23,
          24,
          25,
          26,
          27,
          28,
          29,
          30,
          31,
          32,
          33,
          34,
          35,
          36,
          37,
          38,
          39
         ],
         "xaxis": "x",
         "y": [
          158785,
          132459,
          130767,
          126716,
          123251,
          126551,
          122473,
          127212,
          139487,
          118190,
          115835,
          125966,
          126037,
          113841,
          115751,
          113611,
          121307,
          108535,
          106879,
          107430,
          106092,
          108581,
          108427,
          105509,
          107888,
          109510,
          105131,
          105229,
          104067,
          104623,
          103664,
          103495,
          105598,
          104685,
          105261,
          108624,
          119868,
          123206,
          139230
         ],
         "yaxis": "y",
         "type": "scattergl"
        }
       ],
       "layout": {
        "template": {
         "data": {
          "histogram2dcontour": [
           {
            "type": "histogram2dcontour",
            "colorbar": {
             "outlinewidth": 0,
             "ticks": ""
            },
            "colorscale": [
             [
              0.0,
              "#0d0887"
             ],
             [
              0.1111111111111111,
              "#46039f"
             ],
             [
              0.2222222222222222,
              "#7201a8"
             ],
             [
              0.3333333333333333,
              "#9c179e"
             ],
             [
              0.4444444444444444,
              "#bd3786"
             ],
             [
              0.5555555555555556,
              "#d8576b"
             ],
             [
              0.6666666666666666,
              "#ed7953"
             ],
             [
              0.7777777777777778,
              "#fb9f3a"
             ],
             [
              0.8888888888888888,
              "#fdca26"
             ],
             [
              1.0,
              "#f0f921"
             ]
            ]
           }
          ],
          "choropleth": [
           {
            "type": "choropleth",
            "colorbar": {
             "outlinewidth": 0,
             "ticks": ""
            }
           }
          ],
          "histogram2d": [
           {
            "type": "histogram2d",
            "colorbar": {
             "outlinewidth": 0,
             "ticks": ""
            },
            "colorscale": [
             [
              0.0,
              "#0d0887"
             ],
             [
              0.1111111111111111,
              "#46039f"
             ],
             [
              0.2222222222222222,
              "#7201a8"
             ],
             [
              0.3333333333333333,
              "#9c179e"
             ],
             [
              0.4444444444444444,
              "#bd3786"
             ],
             [
              0.5555555555555556,
              "#d8576b"
             ],
             [
              0.6666666666666666,
              "#ed7953"
             ],
             [
              0.7777777777777778,
              "#fb9f3a"
             ],
             [
              0.8888888888888888,
              "#fdca26"
             ],
             [
              1.0,
              "#f0f921"
             ]
            ]
           }
          ],
          "heatmap": [
           {
            "type": "heatmap",
            "colorbar": {
             "outlinewidth": 0,
             "ticks": ""
            },
            "colorscale": [
             [
              0.0,
              "#0d0887"
             ],
             [
              0.1111111111111111,
              "#46039f"
             ],
             [
              0.2222222222222222,
              "#7201a8"
             ],
             [
              0.3333333333333333,
              "#9c179e"
             ],
             [
              0.4444444444444444,
              "#bd3786"
             ],
             [
              0.5555555555555556,
              "#d8576b"
             ],
             [
              0.6666666666666666,
              "#ed7953"
             ],
             [
              0.7777777777777778,
              "#fb9f3a"
             ],
             [
              0.8888888888888888,
              "#fdca26"
             ],
             [
              1.0,
              "#f0f921"
             ]
            ]
           }
          ],
          "heatmapgl": [
           {
            "type": "heatmapgl",
            "colorbar": {
             "outlinewidth": 0,
             "ticks": ""
            },
            "colorscale": [
             [
              0.0,
              "#0d0887"
             ],
             [
              0.1111111111111111,
              "#46039f"
             ],
             [
              0.2222222222222222,
              "#7201a8"
             ],
             [
              0.3333333333333333,
              "#9c179e"
             ],
             [
              0.4444444444444444,
              "#bd3786"
             ],
             [
              0.5555555555555556,
              "#d8576b"
             ],
             [
              0.6666666666666666,
              "#ed7953"
             ],
             [
              0.7777777777777778,
              "#fb9f3a"
             ],
             [
              0.8888888888888888,
              "#fdca26"
             ],
             [
              1.0,
              "#f0f921"
             ]
            ]
           }
          ],
          "contourcarpet": [
           {
            "type": "contourcarpet",
            "colorbar": {
             "outlinewidth": 0,
             "ticks": ""
            }
           }
          ],
          "contour": [
           {
            "type": "contour",
            "colorbar": {
             "outlinewidth": 0,
             "ticks": ""
            },
            "colorscale": [
             [
              0.0,
              "#0d0887"
             ],
             [
              0.1111111111111111,
              "#46039f"
             ],
             [
              0.2222222222222222,
              "#7201a8"
             ],
             [
              0.3333333333333333,
              "#9c179e"
             ],
             [
              0.4444444444444444,
              "#bd3786"
             ],
             [
              0.5555555555555556,
              "#d8576b"
             ],
             [
              0.6666666666666666,
              "#ed7953"
             ],
             [
              0.7777777777777778,
              "#fb9f3a"
             ],
             [
              0.8888888888888888,
              "#fdca26"
             ],
             [
              1.0,
              "#f0f921"
             ]
            ]
           }
          ],
          "surface": [
           {
            "type": "surface",
            "colorbar": {
             "outlinewidth": 0,
             "ticks": ""
            },
            "colorscale": [
             [
              0.0,
              "#0d0887"
             ],
             [
              0.1111111111111111,
              "#46039f"
             ],
             [
              0.2222222222222222,
              "#7201a8"
             ],
             [
              0.3333333333333333,
              "#9c179e"
             ],
             [
              0.4444444444444444,
              "#bd3786"
             ],
             [
              0.5555555555555556,
              "#d8576b"
             ],
             [
              0.6666666666666666,
              "#ed7953"
             ],
             [
              0.7777777777777778,
              "#fb9f3a"
             ],
             [
              0.8888888888888888,
              "#fdca26"
             ],
             [
              1.0,
              "#f0f921"
             ]
            ]
           }
          ],
          "mesh3d": [
           {
            "type": "mesh3d",
            "colorbar": {
             "outlinewidth": 0,
             "ticks": ""
            }
           }
          ],
          "scatter": [
           {
            "fillpattern": {
             "fillmode": "overlay",
             "size": 10,
             "solidity": 0.2
            },
            "type": "scatter"
           }
          ],
          "parcoords": [
           {
            "type": "parcoords",
            "line": {
             "colorbar": {
              "outlinewidth": 0,
              "ticks": ""
             }
            }
           }
          ],
          "scatterpolargl": [
           {
            "type": "scatterpolargl",
            "marker": {
             "colorbar": {
              "outlinewidth": 0,
              "ticks": ""
             }
            }
           }
          ],
          "bar": [
           {
            "error_x": {
             "color": "#2a3f5f"
            },
            "error_y": {
             "color": "#2a3f5f"
            },
            "marker": {
             "line": {
              "color": "#E5ECF6",
              "width": 0.5
             },
             "pattern": {
              "fillmode": "overlay",
              "size": 10,
              "solidity": 0.2
             }
            },
            "type": "bar"
           }
          ],
          "scattergeo": [
           {
            "type": "scattergeo",
            "marker": {
             "colorbar": {
              "outlinewidth": 0,
              "ticks": ""
             }
            }
           }
          ],
          "scatterpolar": [
           {
            "type": "scatterpolar",
            "marker": {
             "colorbar": {
              "outlinewidth": 0,
              "ticks": ""
             }
            }
           }
          ],
          "histogram": [
           {
            "marker": {
             "pattern": {
              "fillmode": "overlay",
              "size": 10,
              "solidity": 0.2
             }
            },
            "type": "histogram"
           }
          ],
          "scattergl": [
           {
            "type": "scattergl",
            "marker": {
             "colorbar": {
              "outlinewidth": 0,
              "ticks": ""
             }
            }
           }
          ],
          "scatter3d": [
           {
            "type": "scatter3d",
            "line": {
             "colorbar": {
              "outlinewidth": 0,
              "ticks": ""
             }
            },
            "marker": {
             "colorbar": {
              "outlinewidth": 0,
              "ticks": ""
             }
            }
           }
          ],
          "scattermapbox": [
           {
            "type": "scattermapbox",
            "marker": {
             "colorbar": {
              "outlinewidth": 0,
              "ticks": ""
             }
            }
           }
          ],
          "scatterternary": [
           {
            "type": "scatterternary",
            "marker": {
             "colorbar": {
              "outlinewidth": 0,
              "ticks": ""
             }
            }
           }
          ],
          "scattercarpet": [
           {
            "type": "scattercarpet",
            "marker": {
             "colorbar": {
              "outlinewidth": 0,
              "ticks": ""
             }
            }
           }
          ],
          "carpet": [
           {
            "aaxis": {
             "endlinecolor": "#2a3f5f",
             "gridcolor": "white",
             "linecolor": "white",
             "minorgridcolor": "white",
             "startlinecolor": "#2a3f5f"
            },
            "baxis": {
             "endlinecolor": "#2a3f5f",
             "gridcolor": "white",
             "linecolor": "white",
             "minorgridcolor": "white",
             "startlinecolor": "#2a3f5f"
            },
            "type": "carpet"
           }
          ],
          "table": [
           {
            "cells": {
             "fill": {
              "color": "#EBF0F8"
             },
             "line": {
              "color": "white"
             }
            },
            "header": {
             "fill": {
              "color": "#C8D4E3"
             },
             "line": {
              "color": "white"
             }
            },
            "type": "table"
           }
          ],
          "barpolar": [
           {
            "marker": {
             "line": {
              "color": "#E5ECF6",
              "width": 0.5
             },
             "pattern": {
              "fillmode": "overlay",
              "size": 10,
              "solidity": 0.2
             }
            },
            "type": "barpolar"
           }
          ],
          "pie": [
           {
            "automargin": true,
            "type": "pie"
           }
          ]
         },
         "layout": {
          "autotypenumbers": "strict",
          "colorway": [
           "#636efa",
           "#EF553B",
           "#00cc96",
           "#ab63fa",
           "#FFA15A",
           "#19d3f3",
           "#FF6692",
           "#B6E880",
           "#FF97FF",
           "#FECB52"
          ],
          "font": {
           "color": "#2a3f5f"
          },
          "hovermode": "closest",
          "hoverlabel": {
           "align": "left"
          },
          "paper_bgcolor": "white",
          "plot_bgcolor": "#E5ECF6",
          "polar": {
           "bgcolor": "#E5ECF6",
           "angularaxis": {
            "gridcolor": "white",
            "linecolor": "white",
            "ticks": ""
           },
           "radialaxis": {
            "gridcolor": "white",
            "linecolor": "white",
            "ticks": ""
           }
          },
          "ternary": {
           "bgcolor": "#E5ECF6",
           "aaxis": {
            "gridcolor": "white",
            "linecolor": "white",
            "ticks": ""
           },
           "baxis": {
            "gridcolor": "white",
            "linecolor": "white",
            "ticks": ""
           },
           "caxis": {
            "gridcolor": "white",
            "linecolor": "white",
            "ticks": ""
           }
          },
          "coloraxis": {
           "colorbar": {
            "outlinewidth": 0,
            "ticks": ""
           }
          },
          "colorscale": {
           "sequential": [
            [
             0.0,
             "#0d0887"
            ],
            [
             0.1111111111111111,
             "#46039f"
            ],
            [
             0.2222222222222222,
             "#7201a8"
            ],
            [
             0.3333333333333333,
             "#9c179e"
            ],
            [
             0.4444444444444444,
             "#bd3786"
            ],
            [
             0.5555555555555556,
             "#d8576b"
            ],
            [
             0.6666666666666666,
             "#ed7953"
            ],
            [
             0.7777777777777778,
             "#fb9f3a"
            ],
            [
             0.8888888888888888,
             "#fdca26"
            ],
            [
             1.0,
             "#f0f921"
            ]
           ],
           "sequentialminus": [
            [
             0.0,
             "#0d0887"
            ],
            [
             0.1111111111111111,
             "#46039f"
            ],
            [
             0.2222222222222222,
             "#7201a8"
            ],
            [
             0.3333333333333333,
             "#9c179e"
            ],
            [
             0.4444444444444444,
             "#bd3786"
            ],
            [
             0.5555555555555556,
             "#d8576b"
            ],
            [
             0.6666666666666666,
             "#ed7953"
            ],
            [
             0.7777777777777778,
             "#fb9f3a"
            ],
            [
             0.8888888888888888,
             "#fdca26"
            ],
            [
             1.0,
             "#f0f921"
            ]
           ],
           "diverging": [
            [
             0,
             "#8e0152"
            ],
            [
             0.1,
             "#c51b7d"
            ],
            [
             0.2,
             "#de77ae"
            ],
            [
             0.3,
             "#f1b6da"
            ],
            [
             0.4,
             "#fde0ef"
            ],
            [
             0.5,
             "#f7f7f7"
            ],
            [
             0.6,
             "#e6f5d0"
            ],
            [
             0.7,
             "#b8e186"
            ],
            [
             0.8,
             "#7fbc41"
            ],
            [
             0.9,
             "#4d9221"
            ],
            [
             1,
             "#276419"
            ]
           ]
          },
          "xaxis": {
           "gridcolor": "white",
           "linecolor": "white",
           "ticks": "",
           "title": {
            "standoff": 15
           },
           "zerolinecolor": "white",
           "automargin": true,
           "zerolinewidth": 2
          },
          "yaxis": {
           "gridcolor": "white",
           "linecolor": "white",
           "ticks": "",
           "title": {
            "standoff": 15
           },
           "zerolinecolor": "white",
           "automargin": true,
           "zerolinewidth": 2
          },
          "scene": {
           "xaxis": {
            "backgroundcolor": "#E5ECF6",
            "gridcolor": "white",
            "linecolor": "white",
            "showbackground": true,
            "ticks": "",
            "zerolinecolor": "white",
            "gridwidth": 2
           },
           "yaxis": {
            "backgroundcolor": "#E5ECF6",
            "gridcolor": "white",
            "linecolor": "white",
            "showbackground": true,
            "ticks": "",
            "zerolinecolor": "white",
            "gridwidth": 2
           },
           "zaxis": {
            "backgroundcolor": "#E5ECF6",
            "gridcolor": "white",
            "linecolor": "white",
            "showbackground": true,
            "ticks": "",
            "zerolinecolor": "white",
            "gridwidth": 2
           }
          },
          "shapedefaults": {
           "line": {
            "color": "#2a3f5f"
           }
          },
          "annotationdefaults": {
           "arrowcolor": "#2a3f5f",
           "arrowhead": 0,
           "arrowwidth": 1
          },
          "geo": {
           "bgcolor": "white",
           "landcolor": "#E5ECF6",
           "subunitcolor": "white",
           "showland": true,
           "showlakes": true,
           "lakecolor": "white"
          },
          "title": {
           "x": 0.05
          },
          "mapbox": {
           "style": "light"
          }
         }
        },
        "xaxis": {
         "anchor": "y",
         "domain": [
          0.0,
          1.0
         ],
         "title": {
          "text": "Lap"
         }
        },
        "yaxis": {
         "anchor": "x",
         "domain": [
          0.0,
          1.0
         ],
         "title": {
          "text": "Lap Time (ms)"
         }
        },
        "legend": {
         "title": {
          "text": "Full Name"
         },
         "tracegroupgap": 0
        },
        "margin": {
         "t": 60
        },
        "height": 700
       },
       "config": {
        "plotlyServerURL": "https://plot.ly"
       }
      },
      "text/html": "<div>                            <div id=\"475c5e51-ae33-460f-8537-27be905ea1ff\" class=\"plotly-graph-div\" style=\"height:700px; width:100%;\"></div>            <script type=\"text/javascript\">                require([\"plotly\"], function(Plotly) {                    window.PLOTLYENV=window.PLOTLYENV || {};                                    if (document.getElementById(\"475c5e51-ae33-460f-8537-27be905ea1ff\")) {                    Plotly.newPlot(                        \"475c5e51-ae33-460f-8537-27be905ea1ff\",                        [{\"hovertemplate\":\"Full Name=Lance Stroll\\u003cbr\\u003eLap=%{x}\\u003cbr\\u003eLap Time (ms)=%{y}\\u003cextra\\u003e\\u003c\\u002fextra\\u003e\",\"legendgroup\":\"Lance Stroll\",\"line\":{\"color\":\"#636efa\",\"dash\":\"solid\"},\"marker\":{\"symbol\":\"circle\"},\"mode\":\"lines\",\"name\":\"Lance Stroll\",\"showlegend\":true,\"x\":[1,2,3,4,5,6,7,8,9,10,11,12,13,14,15,16,17,18,19,20,21,22,23,24,25,26,27,28,29,30,31,32,33,34,35,36,37,38,39,40,41,42,43,44,45,46,47,48,49,50,51,52,53,54,55,56,57,58],\"xaxis\":\"x\",\"y\":[119973,115125,114247,114170,113516,114053,113335,114094,113336,131349,107275,106571,109736,131538,111012,106317,104386,103951,105624,105144,104249,104459,104864,105034,104359,104414,104361,104393,103772,103591,103383,103390,103691,104500,103960,105811,123558,104764,107946,106463,106494,105310,104291,103853,103244,103629,103006,102143,101924,100965,101691,100825,100841,100439,99921,102847,101471,103058],\"yaxis\":\"y\",\"type\":\"scattergl\"},{\"hovertemplate\":\"Full Name=Sergio P\\u00e9rez\\u003cbr\\u003eLap=%{x}\\u003cbr\\u003eLap Time (ms)=%{y}\\u003cextra\\u003e\\u003c\\u002fextra\\u003e\",\"legendgroup\":\"Sergio P\\u00e9rez\",\"line\":{\"color\":\"#EF553B\",\"dash\":\"solid\"},\"marker\":{\"symbol\":\"circle\"},\"mode\":\"lines\",\"name\":\"Sergio P\\u00e9rez\",\"showlegend\":true,\"x\":[1,2,3,4,5,6,7,8,9,10,11,12,13,14,15,16,17,18,19,20,21,22,23,24,25,26,27,28,29,30,31,32,33,34,35,36,37,38,39,40,41,42,43,44,45,46,47,48,49,50,51,52,53,54,55,56,57,58],\"xaxis\":\"x\",\"y\":[123644,116790,115002,114339,113215,113030,114219,112989,113194,112914,131088,107380,108306,128386,114009,105323,105211,105370,103377,103531,103267,104075,103681,104516,104928,103872,104040,104276,104068,103806,103600,103120,102225,103841,103477,104117,104418,104581,103834,103459,103401,102645,102194,102557,102152,101654,101704,101256,100971,100392,101343,101086,101805,101249,101974,100455,101217,104373],\"yaxis\":\"y\",\"type\":\"scattergl\"},{\"hovertemplate\":\"Full Name=Sebastian Vettel\\u003cbr\\u003eLap=%{x}\\u003cbr\\u003eLap Time (ms)=%{y}\\u003cextra\\u003e\\u003c\\u002fextra\\u003e\",\"legendgroup\":\"Sebastian Vettel\",\"line\":{\"color\":\"#00cc96\",\"dash\":\"solid\"},\"marker\":{\"symbol\":\"circle\"},\"mode\":\"lines\",\"name\":\"Sebastian Vettel\",\"showlegend\":true,\"x\":[1,2,3,4,5,6,7,8,9,10,11,12,13,14,15,16,17,18,19,20,21,22,23,24,25,26,27,28,29,30,31,32,33,34,35,36,37,38,39,40,41,42,43,44,45,46,47,48,49,50,51,52,53,54,55,56,57,58],\"xaxis\":\"x\",\"y\":[128656,118303,116056,115377,114100,113284,112899,113094,130845,109322,109439,110603,113100,127391,115131,108022,106067,105212,104705,103418,102734,102820,103142,102811,103092,103211,103200,102972,103714,103467,103949,103835,103841,124163,101955,103248,102949,103173,103907,102094,101270,101479,101319,101141,100450,100711,100514,100822,100904,101623,100525,101901,99662,99685,99692,99868,100103,100303],\"yaxis\":\"y\",\"type\":\"scattergl\"},{\"hovertemplate\":\"Full Name=Max Verstappen\\u003cbr\\u003eLap=%{x}\\u003cbr\\u003eLap Time (ms)=%{y}\\u003cextra\\u003e\\u003c\\u002fextra\\u003e\",\"legendgroup\":\"Max Verstappen\",\"line\":{\"color\":\"#ab63fa\",\"dash\":\"solid\"},\"marker\":{\"symbol\":\"circle\"},\"mode\":\"lines\",\"name\":\"Max Verstappen\",\"showlegend\":true,\"x\":[1,2,3,4,5,6,7,8,9,10,11,12,13,14,15,16,17,18,19,20,21,22,23,24,25,26,27,28,29,30,31,32,33,34,35,36,37,38,39,40,41,42,43,44,45,46,47,48,49,50,51,52,53,54,55,56,57,58],\"xaxis\":\"x\",\"y\":[129685,119069,115266,115259,114134,113330,112893,112703,111091,108610,109567,127358,110639,127347,111995,105353,105189,120327,119670,102093,101479,104400,103546,103262,103483,104165,103637,103340,102803,103239,104017,104057,102444,101733,102092,101953,102324,101166,102565,101760,102293,103207,106109,116618,99706,100797,101300,100527,101247,100786,102204,98729,98431,99830,98821,102824,101049,100665],\"yaxis\":\"y\",\"type\":\"scattergl\"},{\"hovertemplate\":\"Full Name=Alexander Albon\\u003cbr\\u003eLap=%{x}\\u003cbr\\u003eLap Time (ms)=%{y}\\u003cextra\\u003e\\u003c\\u002fextra\\u003e\",\"legendgroup\":\"Alexander Albon\",\"line\":{\"color\":\"#FFA15A\",\"dash\":\"solid\"},\"marker\":{\"symbol\":\"circle\"},\"mode\":\"lines\",\"name\":\"Alexander Albon\",\"showlegend\":true,\"x\":[1,2,3,4,5,6,7,8,9,10,11,12,13,14,15,16,17,18,19,20,21,22,23,24,25,26,27,28,29,30,31,32,33,34,35,36,37,38,39,40,41,42,43,44,45,46,47,48,49,50,51,52,53,54,55,56,57,58],\"xaxis\":\"x\",\"y\":[131074,118566,117469,114568,113656,113544,112985,112239,111613,110440,110423,110231,133494,126329,111892,105092,103350,102525,102325,102141,102464,103120,103259,104865,104535,104502,104218,104332,106119,103883,103949,103293,102781,113814,119679,101419,102423,103008,103912,105619,102817,102123,101588,101869,101287,101768,100691,101367,101843,100546,101260,101407,99621,99099,99644,102729,100747,100241],\"yaxis\":\"y\",\"type\":\"scattergl\"},{\"hovertemplate\":\"Full Name=Lewis Hamilton\\u003cbr\\u003eLap=%{x}\\u003cbr\\u003eLap Time (ms)=%{y}\\u003cextra\\u003e\\u003c\\u002fextra\\u003e\",\"legendgroup\":\"Lewis Hamilton\",\"line\":{\"color\":\"#19d3f3\",\"dash\":\"solid\"},\"marker\":{\"symbol\":\"circle\"},\"mode\":\"lines\",\"name\":\"Lewis Hamilton\",\"showlegend\":true,\"x\":[1,2,3,4,5,6,7,8,9,10,11,12,13,14,15,16,17,18,19,20,21,22,23,24,25,26,27,28,29,30,31,32,33,34,35,36,37,38,39,40,41,42,43,44,45,46,47,48,49,50,51,52,53,54,55,56,57,58],\"xaxis\":\"x\",\"y\":[131904,119881,116659,115018,114724,113283,112562,114401,128857,105872,109209,110239,114471,126654,115353,107193,106044,105723,104116,103948,102909,103593,104136,103780,103136,102092,102711,102995,102475,103238,103783,104355,102318,101664,101658,102606,102089,101956,101866,100637,100261,99999,100489,100591,100979,102168,100768,101385,100976,100483,100435,99875,100365,100466,100732,99413,99572,100248],\"yaxis\":\"y\",\"type\":\"scattergl\"},{\"hovertemplate\":\"Full Name=Daniel Ricciardo\\u003cbr\\u003eLap=%{x}\\u003cbr\\u003eLap Time (ms)=%{y}\\u003cextra\\u003e\\u003c\\u002fextra\\u003e\",\"legendgroup\":\"Daniel Ricciardo\",\"line\":{\"color\":\"#FF6692\",\"dash\":\"solid\"},\"marker\":{\"symbol\":\"circle\"},\"mode\":\"lines\",\"name\":\"Daniel Ricciardo\",\"showlegend\":true,\"x\":[1,2,3,4,5,6,7,8,9,10,11,12,13,14,15,16,17,18,19,20,21,22,23,24,25,26,27,28,29,30,31,32,33,34,35,36,37,38,39,40,41,42,43,44,45,46,47,48,49,50,51,52,53,54,55,56,57,58],\"xaxis\":\"x\",\"y\":[132618,120881,117046,115701,114539,113434,113289,112799,112342,113727,128902,108547,117130,125923,112095,106657,105990,105300,105116,104697,103969,103653,103448,103093,103141,103076,102943,103722,103501,104575,104665,107848,121695,103570,103969,105166,103941,103316,104150,105578,105508,105127,105116,103151,102274,101840,101610,107703,101541,102386,101350,101307,101213,100677,101269,102247,102132,102570],\"yaxis\":\"y\",\"type\":\"scattergl\"},{\"hovertemplate\":\"Full Name=Kimi R\\u00e4ikk\\u00f6nen\\u003cbr\\u003eLap=%{x}\\u003cbr\\u003eLap Time (ms)=%{y}\\u003cextra\\u003e\\u003c\\u002fextra\\u003e\",\"legendgroup\":\"Kimi R\\u00e4ikk\\u00f6nen\",\"line\":{\"color\":\"#B6E880\",\"dash\":\"solid\"},\"marker\":{\"symbol\":\"circle\"},\"mode\":\"lines\",\"name\":\"Kimi R\\u00e4ikk\\u00f6nen\",\"showlegend\":true,\"x\":[1,2,3,4,5,6,7,8,9,10,11,12,13,14,15,16,17,18,19,20,21,22,23,24,25,26,27,28,29,30,31,32,33,34,35,36,37,38,39,40,41,42,43,44,45,46,47,48,49,50,51,52,53,54,55,56,57],\"xaxis\":\"x\",\"y\":[134918,120377,118478,116508,118955,116634,115279,115858,139440,110839,112458,112178,123240,126323,110474,109911,107584,106662,107418,105095,104923,104470,105747,104422,104888,105077,105433,105468,107232,106601,134006,102726,103680,103842,103789,103667,102783,102465,103168,102204,102469,101747,101663,102251,102915,103542,107432,103716,107816,112331,121536,100589,101503,103014,101329,102852,99743],\"yaxis\":\"y\",\"type\":\"scattergl\"},{\"hovertemplate\":\"Full Name=Carlos Sainz\\u003cbr\\u003eLap=%{x}\\u003cbr\\u003eLap Time (ms)=%{y}\\u003cextra\\u003e\\u003c\\u002fextra\\u003e\",\"legendgroup\":\"Carlos Sainz\",\"line\":{\"color\":\"#FF97FF\",\"dash\":\"solid\"},\"marker\":{\"symbol\":\"circle\"},\"mode\":\"lines\",\"name\":\"Carlos Sainz\",\"showlegend\":true,\"x\":[1,2,3,4,5,6,7,8,9,10,11,12,13,14,15,16,17,18,19,20,21,22,23,24,25,26,27,28,29,30,31,32,33,34,35,36,37,38,39,40,41,42,43,44,45,46,47,48,49,50,51,52,53,54,55,56,57,58],\"xaxis\":\"x\",\"y\":[135726,122115,117336,116216,115227,113255,113171,112726,111671,112789,127973,107450,116781,126450,111374,106712,105807,105464,104270,105156,104343,103667,103325,103683,103955,103573,103780,102943,102863,103637,104048,104139,103533,119034,100208,101574,102576,102590,102515,102556,105448,100635,100289,99718,100521,100356,100312,101542,100387,100051,100204,99120,99247,102075,99509,98754,99290,100007],\"yaxis\":\"y\",\"type\":\"scattergl\"},{\"hovertemplate\":\"Full Name=Kevin Magnussen\\u003cbr\\u003eLap=%{x}\\u003cbr\\u003eLap Time (ms)=%{y}\\u003cextra\\u003e\\u003c\\u002fextra\\u003e\",\"legendgroup\":\"Kevin Magnussen\",\"line\":{\"color\":\"#FECB52\",\"dash\":\"solid\"},\"marker\":{\"symbol\":\"circle\"},\"mode\":\"lines\",\"name\":\"Kevin Magnussen\",\"showlegend\":true,\"x\":[1,2,3,4,5,6,7,8,9,10,11,12,13,14,15,16,17,18,19,20,21,22,23,24,25,26,27,28,29,30,31,32,33,34,35,36,37,38,39,40,41,42,43,44,45,46,47,48,49,50,51,52,53,54,55],\"xaxis\":\"x\",\"y\":[137492,124042,119226,117789,117631,115193,114266,115785,133342,111561,109969,108826,126997,126797,110182,110705,106891,105215,105254,105234,104263,104802,104526,105394,104775,104853,106445,108321,104273,104131,104558,102989,102616,103597,256506,102920,102520,102938,102501,105391,106014,102161,101691,110839,100948,102541,102528,102777,101924,101502,101873,101215,101879,102327,104580],\"yaxis\":\"y\",\"type\":\"scattergl\"},{\"hovertemplate\":\"Full Name=Antonio Giovinazzi\\u003cbr\\u003eLap=%{x}\\u003cbr\\u003eLap Time (ms)=%{y}\\u003cextra\\u003e\\u003c\\u002fextra\\u003e\",\"legendgroup\":\"Antonio Giovinazzi\",\"line\":{\"color\":\"#636efa\",\"dash\":\"solid\"},\"marker\":{\"symbol\":\"circle\"},\"mode\":\"lines\",\"name\":\"Antonio Giovinazzi\",\"showlegend\":true,\"x\":[1,2,3,4,5,6,7,8,9,10,11],\"xaxis\":\"x\",\"y\":[137762,124423,121884,120200,117415,116650,117201,116474,136363,113659,111122],\"yaxis\":\"y\",\"type\":\"scattergl\"},{\"hovertemplate\":\"Full Name=Daniil Kvyat\\u003cbr\\u003eLap=%{x}\\u003cbr\\u003eLap Time (ms)=%{y}\\u003cextra\\u003e\\u003c\\u002fextra\\u003e\",\"legendgroup\":\"Daniil Kvyat\",\"line\":{\"color\":\"#EF553B\",\"dash\":\"solid\"},\"marker\":{\"symbol\":\"circle\"},\"mode\":\"lines\",\"name\":\"Daniil Kvyat\",\"showlegend\":true,\"x\":[1,2,3,4,5,6,7,8,9,10,11,12,13,14,15,16,17,18,19,20,21,22,23,24,25,26,27,28,29,30,31,32,33,34,35,36,37,38,39,40,41,42,43,44,45,46,47,48,49,50,51,52,53,54,55,56,57],\"xaxis\":\"x\",\"y\":[139499,125252,121207,119909,118074,117199,116003,119309,134555,113346,112051,109868,124256,124705,108900,108315,114086,106155,104660,104067,104369,104193,103981,103710,104450,104561,104859,104645,104338,103918,102936,103286,102608,102909,102671,102692,102186,102668,102577,102613,103330,102634,101461,102294,102223,101255,101706,103633,101569,101312,101406,102728,101019,104796,101591,104841,102818],\"yaxis\":\"y\",\"type\":\"scattergl\"},{\"hovertemplate\":\"Full Name=Pierre Gasly\\u003cbr\\u003eLap=%{x}\\u003cbr\\u003eLap Time (ms)=%{y}\\u003cextra\\u003e\\u003c\\u002fextra\\u003e\",\"legendgroup\":\"Pierre Gasly\",\"line\":{\"color\":\"#00cc96\",\"dash\":\"solid\"},\"marker\":{\"symbol\":\"circle\"},\"mode\":\"lines\",\"name\":\"Pierre Gasly\",\"showlegend\":true,\"x\":[1,2,3,4,5,6,7,8,9,10,11,12,13,14,15,16,17,18,19,20,21,22,23,24,25,26,27,28,29,30,31,32,33,34,35,36,37,38,39,40,41,42,43,44,45,46,47,48,49,50,51,52,53,54,55,56,57],\"xaxis\":\"x\",\"y\":[140954,124663,121401,120133,118285,116787,116140,116916,112755,112699,128010,107230,124542,125219,109695,109076,106555,105902,107118,105469,104809,104479,105781,104989,105096,104854,105140,105010,105524,103791,103968,104279,104601,122995,103508,103742,102572,102676,102412,103368,101160,100934,102599,100866,102031,102949,101911,104102,100452,100570,99708,100739,99586,101880,100685,100630,99668],\"yaxis\":\"y\",\"type\":\"scattergl\"},{\"hovertemplate\":\"Full Name=Charles Leclerc\\u003cbr\\u003eLap=%{x}\\u003cbr\\u003eLap Time (ms)=%{y}\\u003cextra\\u003e\\u003c\\u002fextra\\u003e\",\"legendgroup\":\"Charles Leclerc\",\"line\":{\"color\":\"#ab63fa\",\"dash\":\"solid\"},\"marker\":{\"symbol\":\"circle\"},\"mode\":\"lines\",\"name\":\"Charles Leclerc\",\"showlegend\":true,\"x\":[1,2,3,4,5,6,7,8,9,10,11,12,13,14,15,16,17,18,19,20,21,22,23,24,25,26,27,28,29,30,31,32,33,34,35,36,37,38,39,40,41,42,43,44,45,46,47,48,49,50,51,52,53,54,55,56,57,58],\"xaxis\":\"x\",\"y\":[141526,124853,121375,119889,118425,117786,130329,113315,109771,110429,110700,106893,124007,126421,106652,104173,102570,102857,102641,101990,102409,101670,102444,103837,102747,103314,103691,103180,103496,103500,119196,100962,100666,101586,101317,101266,101426,102935,101841,100431,100312,100327,100900,100283,100613,100238,99961,100244,100731,102336,101625,100262,100779,101094,100264,100183,100212,104291],\"yaxis\":\"y\",\"type\":\"scattergl\"},{\"hovertemplate\":\"Full Name=Lando Norris\\u003cbr\\u003eLap=%{x}\\u003cbr\\u003eLap Time (ms)=%{y}\\u003cextra\\u003e\\u003c\\u002fextra\\u003e\",\"legendgroup\":\"Lando Norris\",\"line\":{\"color\":\"#FFA15A\",\"dash\":\"solid\"},\"marker\":{\"symbol\":\"circle\"},\"mode\":\"lines\",\"name\":\"Lando Norris\",\"showlegend\":true,\"x\":[1,2,3,4,5,6,7,8,9,10,11,12,13,14,15,16,17,18,19,20,21,22,23,24,25,26,27,28,29,30,31,32,33,34,35,36,37,38,39,40,41,42,43,44,45,46,47,48,49,50,51,52,53,54,55,56,57,58],\"xaxis\":\"x\",\"y\":[143668,124681,120938,119566,118176,117099,115263,116555,114627,126018,108431,107864,124355,125619,109966,108632,106872,106273,105042,105125,104615,103991,104359,105629,103344,104830,104900,102218,103097,102793,102723,102792,101783,101427,101287,102273,119401,99796,100329,102503,101967,102101,101808,102065,102171,101576,100833,101732,100061,100070,98471,98057,97603,98226,99806,99214,99145,96806],\"yaxis\":\"y\",\"type\":\"scattergl\"},{\"hovertemplate\":\"Full Name=Romain Grosjean\\u003cbr\\u003eLap=%{x}\\u003cbr\\u003eLap Time (ms)=%{y}\\u003cextra\\u003e\\u003c\\u002fextra\\u003e\",\"legendgroup\":\"Romain Grosjean\",\"line\":{\"color\":\"#19d3f3\",\"dash\":\"solid\"},\"marker\":{\"symbol\":\"circle\"},\"mode\":\"lines\",\"name\":\"Romain Grosjean\",\"showlegend\":true,\"x\":[1,2,3,4,5,6,7,8,9,10,11,12,13,14,15,16,17,18,19,20,21,22,23,24,25,26,27,28,29,30,31,32,33,34,35,36,37,38,39,40,41,42,43,44,45,46,47,48,49],\"xaxis\":\"x\",\"y\":[144084,126933,124367,119439,118713,118901,115997,117507,135743,112232,109985,111162,124988,123798,111290,108027,106960,106215,106478,106434,106432,105477,106478,106063,105693,105639,107411,114260,106015,105120,104748,105056,103961,104128,104527,108755,129716,103281,127545,105123,105545,104004,104108,103728,104824,117719,108751,109349,105674],\"yaxis\":\"y\",\"type\":\"scattergl\"},{\"hovertemplate\":\"Full Name=George Russell\\u003cbr\\u003eLap=%{x}\\u003cbr\\u003eLap Time (ms)=%{y}\\u003cextra\\u003e\\u003c\\u002fextra\\u003e\",\"legendgroup\":\"George Russell\",\"line\":{\"color\":\"#FF6692\",\"dash\":\"solid\"},\"marker\":{\"symbol\":\"circle\"},\"mode\":\"lines\",\"name\":\"George Russell\",\"showlegend\":true,\"x\":[1,2,3,4,5,6,7,8,9,10,11,12,13,14,15,16,17,18,19,20,21,22,23,24,25,26,27,28,29,30,31,32,33,34,35,36,37,38,39,40,41,42,43,44,45,46,47,48,49,50,51,52,53,54,55,56,57],\"xaxis\":\"x\",\"y\":[147980,129862,122790,120833,118792,116634,115621,114228,112942,111091,109730,109594,122770,126410,111523,109674,106993,106182,105415,105021,104358,104204,104551,107054,107223,105613,105229,105619,105114,104622,104457,105196,122800,103942,103742,105417,106030,106931,107757,106107,108165,107418,121348,103262,104091,103467,104630,105165,106440,101889,100814,101599,101739,104356,104647,105572,102992],\"yaxis\":\"y\",\"type\":\"scattergl\"},{\"hovertemplate\":\"Full Name=Valtteri Bottas\\u003cbr\\u003eLap=%{x}\\u003cbr\\u003eLap Time (ms)=%{y}\\u003cextra\\u003e\\u003c\\u002fextra\\u003e\",\"legendgroup\":\"Valtteri Bottas\",\"line\":{\"color\":\"#B6E880\",\"dash\":\"solid\"},\"marker\":{\"symbol\":\"circle\"},\"mode\":\"lines\",\"name\":\"Valtteri Bottas\",\"showlegend\":true,\"x\":[1,2,3,4,5,6,7,8,9,10,11,12,13,14,15,16,17,18,19,20,21,22,23,24,25,26,27,28,29,30,31,32,33,34,35,36,37,38,39,40,41,42,43,44,45,46,47,48,49,50,51,52,53,54,55,56,57],\"xaxis\":\"x\",\"y\":[148432,123530,120309,117473,118254,118218,116556,129177,110923,112489,106579,108940,122471,126620,114699,115273,105484,104979,104741,105390,117855,104353,104057,102689,103754,104748,105151,104654,104525,103621,102886,102919,102927,102570,102537,102628,102475,102684,104476,114673,101666,100673,100416,101714,108022,109648,121933,101684,103951,101793,102921,106388,102308,100939,100770,101789,98193],\"yaxis\":\"y\",\"type\":\"scattergl\"},{\"hovertemplate\":\"Full Name=Esteban Ocon\\u003cbr\\u003eLap=%{x}\\u003cbr\\u003eLap Time (ms)=%{y}\\u003cextra\\u003e\\u003c\\u002fextra\\u003e\",\"legendgroup\":\"Esteban Ocon\",\"line\":{\"color\":\"#FF97FF\",\"dash\":\"solid\"},\"marker\":{\"symbol\":\"circle\"},\"mode\":\"lines\",\"name\":\"Esteban Ocon\",\"showlegend\":true,\"x\":[1,2,3,4,5,6,7,8,9,10,11,12,13,14,15,16,17,18,19,20,21,22,23,24,25,26,27,28,29,30,31,32,33,34,35,36,37,38,39,40,41,42,43,44,45,46,47,48,49,50,51,52,53,54,55,56,57],\"xaxis\":\"x\",\"y\":[153513,137982,119312,114844,115387,116832,115294,115056,114115,114935,128922,109531,126086,121433,106990,106084,105275,104266,104584,104128,104671,103790,104886,105173,104925,104974,104983,104754,105293,104897,103242,103018,103050,102309,101924,102423,102495,102249,102049,102565,101908,102082,102081,101897,102295,101686,101813,102312,101792,102356,101211,101108,102455,101235,101006,101320,106456],\"yaxis\":\"y\",\"type\":\"scattergl\"},{\"hovertemplate\":\"Full Name=Nicholas Latifi\\u003cbr\\u003eLap=%{x}\\u003cbr\\u003eLap Time (ms)=%{y}\\u003cextra\\u003e\\u003c\\u002fextra\\u003e\",\"legendgroup\":\"Nicholas Latifi\",\"line\":{\"color\":\"#FECB52\",\"dash\":\"solid\"},\"marker\":{\"symbol\":\"circle\"},\"mode\":\"lines\",\"name\":\"Nicholas Latifi\",\"showlegend\":true,\"x\":[1,2,3,4,5,6,7,8,9,10,11,12,13,14,15,16,17,18,19,20,21,22,23,24,25,26,27,28,29,30,31,32,33,34,35,36,37,38,39],\"xaxis\":\"x\",\"y\":[158785,132459,130767,126716,123251,126551,122473,127212,139487,118190,115835,125966,126037,113841,115751,113611,121307,108535,106879,107430,106092,108581,108427,105509,107888,109510,105131,105229,104067,104623,103664,103495,105598,104685,105261,108624,119868,123206,139230],\"yaxis\":\"y\",\"type\":\"scattergl\"}],                        {\"template\":{\"data\":{\"histogram2dcontour\":[{\"type\":\"histogram2dcontour\",\"colorbar\":{\"outlinewidth\":0,\"ticks\":\"\"},\"colorscale\":[[0.0,\"#0d0887\"],[0.1111111111111111,\"#46039f\"],[0.2222222222222222,\"#7201a8\"],[0.3333333333333333,\"#9c179e\"],[0.4444444444444444,\"#bd3786\"],[0.5555555555555556,\"#d8576b\"],[0.6666666666666666,\"#ed7953\"],[0.7777777777777778,\"#fb9f3a\"],[0.8888888888888888,\"#fdca26\"],[1.0,\"#f0f921\"]]}],\"choropleth\":[{\"type\":\"choropleth\",\"colorbar\":{\"outlinewidth\":0,\"ticks\":\"\"}}],\"histogram2d\":[{\"type\":\"histogram2d\",\"colorbar\":{\"outlinewidth\":0,\"ticks\":\"\"},\"colorscale\":[[0.0,\"#0d0887\"],[0.1111111111111111,\"#46039f\"],[0.2222222222222222,\"#7201a8\"],[0.3333333333333333,\"#9c179e\"],[0.4444444444444444,\"#bd3786\"],[0.5555555555555556,\"#d8576b\"],[0.6666666666666666,\"#ed7953\"],[0.7777777777777778,\"#fb9f3a\"],[0.8888888888888888,\"#fdca26\"],[1.0,\"#f0f921\"]]}],\"heatmap\":[{\"type\":\"heatmap\",\"colorbar\":{\"outlinewidth\":0,\"ticks\":\"\"},\"colorscale\":[[0.0,\"#0d0887\"],[0.1111111111111111,\"#46039f\"],[0.2222222222222222,\"#7201a8\"],[0.3333333333333333,\"#9c179e\"],[0.4444444444444444,\"#bd3786\"],[0.5555555555555556,\"#d8576b\"],[0.6666666666666666,\"#ed7953\"],[0.7777777777777778,\"#fb9f3a\"],[0.8888888888888888,\"#fdca26\"],[1.0,\"#f0f921\"]]}],\"heatmapgl\":[{\"type\":\"heatmapgl\",\"colorbar\":{\"outlinewidth\":0,\"ticks\":\"\"},\"colorscale\":[[0.0,\"#0d0887\"],[0.1111111111111111,\"#46039f\"],[0.2222222222222222,\"#7201a8\"],[0.3333333333333333,\"#9c179e\"],[0.4444444444444444,\"#bd3786\"],[0.5555555555555556,\"#d8576b\"],[0.6666666666666666,\"#ed7953\"],[0.7777777777777778,\"#fb9f3a\"],[0.8888888888888888,\"#fdca26\"],[1.0,\"#f0f921\"]]}],\"contourcarpet\":[{\"type\":\"contourcarpet\",\"colorbar\":{\"outlinewidth\":0,\"ticks\":\"\"}}],\"contour\":[{\"type\":\"contour\",\"colorbar\":{\"outlinewidth\":0,\"ticks\":\"\"},\"colorscale\":[[0.0,\"#0d0887\"],[0.1111111111111111,\"#46039f\"],[0.2222222222222222,\"#7201a8\"],[0.3333333333333333,\"#9c179e\"],[0.4444444444444444,\"#bd3786\"],[0.5555555555555556,\"#d8576b\"],[0.6666666666666666,\"#ed7953\"],[0.7777777777777778,\"#fb9f3a\"],[0.8888888888888888,\"#fdca26\"],[1.0,\"#f0f921\"]]}],\"surface\":[{\"type\":\"surface\",\"colorbar\":{\"outlinewidth\":0,\"ticks\":\"\"},\"colorscale\":[[0.0,\"#0d0887\"],[0.1111111111111111,\"#46039f\"],[0.2222222222222222,\"#7201a8\"],[0.3333333333333333,\"#9c179e\"],[0.4444444444444444,\"#bd3786\"],[0.5555555555555556,\"#d8576b\"],[0.6666666666666666,\"#ed7953\"],[0.7777777777777778,\"#fb9f3a\"],[0.8888888888888888,\"#fdca26\"],[1.0,\"#f0f921\"]]}],\"mesh3d\":[{\"type\":\"mesh3d\",\"colorbar\":{\"outlinewidth\":0,\"ticks\":\"\"}}],\"scatter\":[{\"fillpattern\":{\"fillmode\":\"overlay\",\"size\":10,\"solidity\":0.2},\"type\":\"scatter\"}],\"parcoords\":[{\"type\":\"parcoords\",\"line\":{\"colorbar\":{\"outlinewidth\":0,\"ticks\":\"\"}}}],\"scatterpolargl\":[{\"type\":\"scatterpolargl\",\"marker\":{\"colorbar\":{\"outlinewidth\":0,\"ticks\":\"\"}}}],\"bar\":[{\"error_x\":{\"color\":\"#2a3f5f\"},\"error_y\":{\"color\":\"#2a3f5f\"},\"marker\":{\"line\":{\"color\":\"#E5ECF6\",\"width\":0.5},\"pattern\":{\"fillmode\":\"overlay\",\"size\":10,\"solidity\":0.2}},\"type\":\"bar\"}],\"scattergeo\":[{\"type\":\"scattergeo\",\"marker\":{\"colorbar\":{\"outlinewidth\":0,\"ticks\":\"\"}}}],\"scatterpolar\":[{\"type\":\"scatterpolar\",\"marker\":{\"colorbar\":{\"outlinewidth\":0,\"ticks\":\"\"}}}],\"histogram\":[{\"marker\":{\"pattern\":{\"fillmode\":\"overlay\",\"size\":10,\"solidity\":0.2}},\"type\":\"histogram\"}],\"scattergl\":[{\"type\":\"scattergl\",\"marker\":{\"colorbar\":{\"outlinewidth\":0,\"ticks\":\"\"}}}],\"scatter3d\":[{\"type\":\"scatter3d\",\"line\":{\"colorbar\":{\"outlinewidth\":0,\"ticks\":\"\"}},\"marker\":{\"colorbar\":{\"outlinewidth\":0,\"ticks\":\"\"}}}],\"scattermapbox\":[{\"type\":\"scattermapbox\",\"marker\":{\"colorbar\":{\"outlinewidth\":0,\"ticks\":\"\"}}}],\"scatterternary\":[{\"type\":\"scatterternary\",\"marker\":{\"colorbar\":{\"outlinewidth\":0,\"ticks\":\"\"}}}],\"scattercarpet\":[{\"type\":\"scattercarpet\",\"marker\":{\"colorbar\":{\"outlinewidth\":0,\"ticks\":\"\"}}}],\"carpet\":[{\"aaxis\":{\"endlinecolor\":\"#2a3f5f\",\"gridcolor\":\"white\",\"linecolor\":\"white\",\"minorgridcolor\":\"white\",\"startlinecolor\":\"#2a3f5f\"},\"baxis\":{\"endlinecolor\":\"#2a3f5f\",\"gridcolor\":\"white\",\"linecolor\":\"white\",\"minorgridcolor\":\"white\",\"startlinecolor\":\"#2a3f5f\"},\"type\":\"carpet\"}],\"table\":[{\"cells\":{\"fill\":{\"color\":\"#EBF0F8\"},\"line\":{\"color\":\"white\"}},\"header\":{\"fill\":{\"color\":\"#C8D4E3\"},\"line\":{\"color\":\"white\"}},\"type\":\"table\"}],\"barpolar\":[{\"marker\":{\"line\":{\"color\":\"#E5ECF6\",\"width\":0.5},\"pattern\":{\"fillmode\":\"overlay\",\"size\":10,\"solidity\":0.2}},\"type\":\"barpolar\"}],\"pie\":[{\"automargin\":true,\"type\":\"pie\"}]},\"layout\":{\"autotypenumbers\":\"strict\",\"colorway\":[\"#636efa\",\"#EF553B\",\"#00cc96\",\"#ab63fa\",\"#FFA15A\",\"#19d3f3\",\"#FF6692\",\"#B6E880\",\"#FF97FF\",\"#FECB52\"],\"font\":{\"color\":\"#2a3f5f\"},\"hovermode\":\"closest\",\"hoverlabel\":{\"align\":\"left\"},\"paper_bgcolor\":\"white\",\"plot_bgcolor\":\"#E5ECF6\",\"polar\":{\"bgcolor\":\"#E5ECF6\",\"angularaxis\":{\"gridcolor\":\"white\",\"linecolor\":\"white\",\"ticks\":\"\"},\"radialaxis\":{\"gridcolor\":\"white\",\"linecolor\":\"white\",\"ticks\":\"\"}},\"ternary\":{\"bgcolor\":\"#E5ECF6\",\"aaxis\":{\"gridcolor\":\"white\",\"linecolor\":\"white\",\"ticks\":\"\"},\"baxis\":{\"gridcolor\":\"white\",\"linecolor\":\"white\",\"ticks\":\"\"},\"caxis\":{\"gridcolor\":\"white\",\"linecolor\":\"white\",\"ticks\":\"\"}},\"coloraxis\":{\"colorbar\":{\"outlinewidth\":0,\"ticks\":\"\"}},\"colorscale\":{\"sequential\":[[0.0,\"#0d0887\"],[0.1111111111111111,\"#46039f\"],[0.2222222222222222,\"#7201a8\"],[0.3333333333333333,\"#9c179e\"],[0.4444444444444444,\"#bd3786\"],[0.5555555555555556,\"#d8576b\"],[0.6666666666666666,\"#ed7953\"],[0.7777777777777778,\"#fb9f3a\"],[0.8888888888888888,\"#fdca26\"],[1.0,\"#f0f921\"]],\"sequentialminus\":[[0.0,\"#0d0887\"],[0.1111111111111111,\"#46039f\"],[0.2222222222222222,\"#7201a8\"],[0.3333333333333333,\"#9c179e\"],[0.4444444444444444,\"#bd3786\"],[0.5555555555555556,\"#d8576b\"],[0.6666666666666666,\"#ed7953\"],[0.7777777777777778,\"#fb9f3a\"],[0.8888888888888888,\"#fdca26\"],[1.0,\"#f0f921\"]],\"diverging\":[[0,\"#8e0152\"],[0.1,\"#c51b7d\"],[0.2,\"#de77ae\"],[0.3,\"#f1b6da\"],[0.4,\"#fde0ef\"],[0.5,\"#f7f7f7\"],[0.6,\"#e6f5d0\"],[0.7,\"#b8e186\"],[0.8,\"#7fbc41\"],[0.9,\"#4d9221\"],[1,\"#276419\"]]},\"xaxis\":{\"gridcolor\":\"white\",\"linecolor\":\"white\",\"ticks\":\"\",\"title\":{\"standoff\":15},\"zerolinecolor\":\"white\",\"automargin\":true,\"zerolinewidth\":2},\"yaxis\":{\"gridcolor\":\"white\",\"linecolor\":\"white\",\"ticks\":\"\",\"title\":{\"standoff\":15},\"zerolinecolor\":\"white\",\"automargin\":true,\"zerolinewidth\":2},\"scene\":{\"xaxis\":{\"backgroundcolor\":\"#E5ECF6\",\"gridcolor\":\"white\",\"linecolor\":\"white\",\"showbackground\":true,\"ticks\":\"\",\"zerolinecolor\":\"white\",\"gridwidth\":2},\"yaxis\":{\"backgroundcolor\":\"#E5ECF6\",\"gridcolor\":\"white\",\"linecolor\":\"white\",\"showbackground\":true,\"ticks\":\"\",\"zerolinecolor\":\"white\",\"gridwidth\":2},\"zaxis\":{\"backgroundcolor\":\"#E5ECF6\",\"gridcolor\":\"white\",\"linecolor\":\"white\",\"showbackground\":true,\"ticks\":\"\",\"zerolinecolor\":\"white\",\"gridwidth\":2}},\"shapedefaults\":{\"line\":{\"color\":\"#2a3f5f\"}},\"annotationdefaults\":{\"arrowcolor\":\"#2a3f5f\",\"arrowhead\":0,\"arrowwidth\":1},\"geo\":{\"bgcolor\":\"white\",\"landcolor\":\"#E5ECF6\",\"subunitcolor\":\"white\",\"showland\":true,\"showlakes\":true,\"lakecolor\":\"white\"},\"title\":{\"x\":0.05},\"mapbox\":{\"style\":\"light\"}}},\"xaxis\":{\"anchor\":\"y\",\"domain\":[0.0,1.0],\"title\":{\"text\":\"Lap\"}},\"yaxis\":{\"anchor\":\"x\",\"domain\":[0.0,1.0],\"title\":{\"text\":\"Lap Time (ms)\"}},\"legend\":{\"title\":{\"text\":\"Full Name\"},\"tracegroupgap\":0},\"margin\":{\"t\":60},\"height\":700},                        {\"responsive\": true}                    ).then(function(){\n                            \nvar gd = document.getElementById('475c5e51-ae33-460f-8537-27be905ea1ff');\nvar x = new MutationObserver(function (mutations, observer) {{\n        var display = window.getComputedStyle(gd).display;\n        if (!display || display === 'none') {{\n            console.log([gd, 'removed!']);\n            Plotly.purge(gd);\n            observer.disconnect();\n        }}\n}});\n\n// Listen for the removal of the full notebook cells\nvar notebookContainer = gd.closest('#notebook-container');\nif (notebookContainer) {{\n    x.observe(notebookContainer, {childList: true});\n}}\n\n// Listen for the clearing of the current output cell\nvar outputEl = gd.closest('.output');\nif (outputEl) {{\n    x.observe(outputEl, {childList: true});\n}}\n\n                        })                };                });            </script>        </div>"
     },
     "metadata": {},
     "output_type": "display_data"
    }
   ],
   "source": [
    "# Plot lap times using Plotly\n",
    "fig = px.line(lap_times_for_race,\n",
    "              x='lap',\n",
    "              y='milliseconds',\n",
    "              color='driver_full_name',\n",
    "              labels={'lap': 'Lap', 'milliseconds': 'Lap Time (ms)', 'position': 'Position', 'driver_full_name': 'Full Name'},\n",
    "              height=700)\n",
    "# Update x-axis to use circuit names as ticks\n",
    "fig.show()\n"
   ],
   "metadata": {
    "collapsed": false,
    "ExecuteTime": {
     "end_time": "2024-01-19T00:08:19.164458195Z",
     "start_time": "2024-01-19T00:08:19.049456253Z"
    }
   },
   "id": "2b325be19cde5c70",
   "execution_count": 54
  },
  {
   "cell_type": "code",
   "outputs": [],
   "source": [],
   "metadata": {
    "collapsed": false
   },
   "id": "e4e6eb1be3590cdf"
  }
 ],
 "metadata": {
  "kernelspec": {
   "display_name": "Python 3",
   "language": "python",
   "name": "python3"
  },
  "language_info": {
   "codemirror_mode": {
    "name": "ipython",
    "version": 2
   },
   "file_extension": ".py",
   "mimetype": "text/x-python",
   "name": "python",
   "nbconvert_exporter": "python",
   "pygments_lexer": "ipython2",
   "version": "2.7.6"
  }
 },
 "nbformat": 4,
 "nbformat_minor": 5
}
